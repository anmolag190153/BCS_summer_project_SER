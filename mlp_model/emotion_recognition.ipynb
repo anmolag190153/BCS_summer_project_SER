{
  "nbformat": 4,
  "nbformat_minor": 0,
  "metadata": {
    "colab": {
      "name": "Speech_emotion_recognition.ipynb",
      "provenance": [],
      "authorship_tag": "ABX9TyNtWzcuO3rLiERtGk4RfayH",
      "include_colab_link": true
    },
    "kernelspec": {
      "name": "python3",
      "display_name": "Python 3.8.5 64-bit"
    },
    "language_info": {
      "name": "python",
      "version": "3.8.5"
    },
    "interpreter": {
      "hash": "916dbcbb3f70747c44a77c7bcd40155683ae19c65e1c03b4aa3499c5328201f1"
    }
  },
  "cells": [
    {
      "cell_type": "markdown",
      "metadata": {
        "id": "view-in-github",
        "colab_type": "text"
      },
      "source": [
        "<a href=\"https://colab.research.google.com/github/anmolag190153/BCS_summer_project_SER/blob/main/Speech_emotion_recognition.ipynb\" target=\"_parent\"><img src=\"https://colab.research.google.com/assets/colab-badge.svg\" alt=\"Open In Colab\"/></a>"
      ]
    },
    {
      "source": [
        "# SPEECH EMOTION RECOGNITION PROJECT\n",
        "## BCS-IITK\n",
        "\n",
        "\n",
        "# Emotions Classification"
      ],
      "cell_type": "markdown",
      "metadata": {}
    },
    {
      "cell_type": "code",
      "metadata": {
        "id": "6DAkci38V0eM",
        "colab": {
          "base_uri": "https://localhost:8080/"
        },
        "outputId": "36b31712-2893-42a5-e948-8adfc05c6942"
      },
      "source": [
        "import numpy as np\n",
        "import pandas as pd\n",
        "import matplotlib.pyplot as plt\n",
        "import IPython.display as ipd\n",
        "import librosa\n",
        "import librosa.display\n",
        "import os\n",
        "import tensorflow as tf\n",
        "from tensorflow import keras\n",
        "from sklearn.model_selection import train_test_split\n",
        "from sklearn.preprocessing import StandardScaler\n",
        "from keras.callbacks import CSVLogger\n",
        "# from google.colab import drive\n",
        "# drive.mount('/content/drive')"
      ],
      "execution_count": 2,
      "outputs": []
    },
    {
      "cell_type": "code",
      "metadata": {
        "colab": {
          "base_uri": "https://localhost:8080/",
          "height": 75
        },
        "id": "bbK3nauBZE_l",
        "outputId": "c6a3c2f3-cb4c-43b9-ed2f-76aa6a1b30f2"
      },
      "source": [
        "# path1='/content/drive/My Drive/Ravdess/Actor_01/03-01-08-02-02-02-01.wav'\n",
        "# ipd.Audio(path1)"
      ],
      "execution_count": 5,
      "outputs": []
    },
    {
      "cell_type": "code",
      "metadata": {
        "colab": {
          "base_uri": "https://localhost:8080/"
        },
        "id": "Fe3gX0-TIg8V",
        "outputId": "a2bc9158-5e66-4693-bdfe-adc2479af5f4"
      },
      "source": [
        "# actor_1,sr=librosa.load(path1)\n",
        "# print(actor_1.shape)\n",
        "# print(sr)\n",
        "sr=22100"
      ],
      "execution_count": 10,
      "outputs": []
    },
    {
      "cell_type": "code",
      "metadata": {
        "colab": {
          "base_uri": "https://localhost:8080/",
          "height": 338
        },
        "id": "tHE5LRR-aSoA",
        "outputId": "9e74876d-e09b-4cdc-a9c4-d92f666e4a6a"
      },
      "source": [
        "# plt.figure(figsize=(15,5))\n",
        "# librosa.display.waveplot(actor_1,sr=sr)\n",
        "# plt.ylim((-0.1,0.1))\n",
        "# plt.show()"
      ],
      "execution_count": 7,
      "outputs": []
    },
    {
      "cell_type": "code",
      "metadata": {
        "id": "p4zSHxQuaoqi"
      },
      "source": [
        "def build_fc_model(input_shape=(181,1), num_class=8):\n",
        "    \n",
        "    \n",
        "    model=tf.keras.models.Sequential([tf.keras.layers.Dropout(0.1),\n",
        "                                    tf.keras.layers.Conv1D(256,3,input_shape=input_shape,activation='relu'),\n",
        "                                    tf.keras.layers.MaxPool1D(2),\n",
        "                                    tf.keras.layers.Conv1D(256,3,activation='relu'),\n",
        "                                    tf.keras.layers.MaxPool1D(2),\n",
        "                                    tf.keras.layers.Conv1D(256,3,activation='relu'),\n",
        "                                    tf.keras.layers.MaxPool1D(2),\n",
        "                                    # tf.keras.layers.Dense(512,activation='relu',input_shape=input_shape,kernel_regularizer=tf.keras.regularizers.l2(1e-2)),\n",
        "                                    # tf.keras.layers.Dropout(0.1),\n",
        "                                    tf.keras.layers.Flatten(),\n",
        "                                    tf.keras.layers.Dense(512,activation='relu',kernel_regularizer=tf.keras.regularizers.l2(1e-3)),\n",
        "                                    # tf.keras.layers.Dropout(0.1),\n",
        "                                    # tf.keras.layers.Dense(128,activation='relu'),\n",
        "                                    # tf.keras.layers.Dense(64,activation='relu'),\n",
        "                                    tf.keras.layers.Dense(num_class,activation='softmax')\n",
        "                                    ])\n",
        "\n",
        "    return model"
      ],
      "execution_count": 7,
      "outputs": []
    },
    {
      "cell_type": "code",
      "metadata": {
        "id": "T34HMV2Zgfbe"
      },
      "source": [
        "def extract_feature(file):\n",
        "    result=np.array([])\n",
        "    mfcc=np.mean(librosa.feature.mfcc(file,sr=sr,n_mfcc=40).T,axis=0)\n",
        "    result=np.hstack((result,mfcc))\n",
        "    chroma=np.mean(librosa.feature.chroma_stft(file,sr=sr).T,axis=0)\n",
        "    result=np.hstack((result,chroma))\n",
        "    mel=np.mean(librosa.feature.melspectrogram(file,sr=sr).T,axis=0)\n",
        "    result=np.hstack((result,mel))\n",
        "    spectral_rolloff = np.mean(librosa.feature.spectral_rolloff(file, sr=sr).T,axis=0)\n",
        "    result=np.hstack((result,spectral_rolloff))\n",
        "    return result"
      ],
      "execution_count": 8,
      "outputs": []
    },
    {
      "source": [
        "# Loading Data\n",
        "We are using the RAVDESS dataset for this project."
      ],
      "cell_type": "markdown",
      "metadata": {}
    },
    {
      "cell_type": "code",
      "metadata": {
        "colab": {
          "base_uri": "https://localhost:8080/"
        },
        "id": "MoU-wCEhaWYU",
        "outputId": "31bf7f2d-315c-4aab-fa45-680c8e0eb0ef"
      },
      "source": [
        "path='Audio Datasets'\n",
        "k=0\n",
        "x_data=np.ndarray(shape=(24*60,120000))\n",
        "y_data=np.ndarray(shape=(24*60,1))\n",
        "for i,actor in enumerate(os.listdir(path)):\n",
        "    path1=os.path.join(path,actor)\n",
        "    for j,voice in enumerate(os.listdir(path1)):\n",
        "        if voice=='test':\n",
        "            continue\n",
        "        b=voice[6:8]\n",
        "        y_data[k,0]=b\n",
        "        y_data[k,0]=y_data[k,0]-1\n",
        "        temp_path=os.path.join(path1,voice)\n",
        "        # print(temp_path)\n",
        "        var,_=librosa.load(temp_path)\n",
        "        x_data[k,:var.shape[0]]=var[:]\n",
        "        x_data[k,var.shape[0]:]=0\n",
        "        k=k+1"
      ],
      "execution_count": 4,
      "outputs": []
    },
    {
      "source": [],
      "cell_type": "markdown",
      "metadata": {}
    },
    {
      "source": [
        "# Extracting Features\n",
        "We have used mfccs, chroma frequency, mel spectogram and spectral centroid as audio features in this project."
      ],
      "cell_type": "markdown",
      "metadata": {}
    },
    {
      "cell_type": "code",
      "metadata": {
        "id": "ADeYDlROgmxP"
      },
      "source": [
        "x=[]\n",
        "for i in range(24*60):\n",
        "    feature=extract_feature(x_data[i,:])\n",
        "    x.append(feature)"
      ],
      "execution_count": 11,
      "outputs": []
    },
    {
      "source": [
        "**Scaling** the data and splitting data for **training** and **validation**"
      ],
      "cell_type": "markdown",
      "metadata": {}
    },
    {
      "cell_type": "code",
      "metadata": {
        "id": "2gdYm8XWgn33"
      },
      "source": [
        "x_train, x_test,y_train,y_test = train_test_split(np.array(x), y_data, test_size=0.2, random_state=9)\n",
        "scaler = StandardScaler()\n",
        "x_train = scaler.fit_transform(x_train)\n",
        "x_test = scaler.transform(x_test)"
      ],
      "execution_count": 19,
      "outputs": []
    },
    {
      "cell_type": "code",
      "execution_count": 21,
      "metadata": {},
      "outputs": [
        {
          "output_type": "stream",
          "name": "stdout",
          "text": [
            "((1152, 181), (288, 181), (1152, 1))\n"
          ]
        }
      ],
      "source": [
        "print((x_train.shape,x_test.shape,y_train.shape))\n",
        "x_train = x_train.reshape(1152,181,1)\n",
        "x_test = x_test.reshape(288,181,1)"
      ]
    },
    {
      "source": [
        "# Training the model\n",
        "The model classifies human voices in 8 different classes of emotions\n",
        "\n",
        "**label**   **emotion**\n",
        "\n",
        "0   =   neutral\n",
        "\n",
        "1   =   calm\n",
        "\n",
        "2   =   happy\n",
        "\n",
        "3   =   sad\n",
        "\n",
        "4   =   angry\n",
        "\n",
        "5   =   fearful\n",
        "\n",
        "6   =   disgust\n",
        "\n",
        "7   =   surprised"
      ],
      "cell_type": "markdown",
      "metadata": {}
    },
    {
      "cell_type": "code",
      "metadata": {
        "id": "yycOxDhyhJn1",
        "outputId": "1a98c219-8c90-42aa-adbd-9af230276316",
        "colab": {
          "base_uri": "https://localhost:8080/"
        },
        "tags": [
          "outputPrepend"
        ]
      },
      "source": [
        "model=build_fc_model()\n",
        "model.compile(loss='sparse_categorical_crossentropy',optimizer='adam',metrics=['accuracy'])\n",
        "# csv_logger = CSVLogger('model_history.log', separator=',', append=False)\n",
        "history=model.fit(x_train,y_train,epochs=200,batch_size=256,validation_data=(x_test,y_test))"
      ],
      "execution_count": 23,
      "outputs": [
        {
          "output_type": "stream",
          "name": "stdout",
          "text": [
            "l_accuracy: 0.6285\n",
            "Epoch 61/200\n",
            "5/5 [==============================] - 1s 191ms/step - loss: 0.3068 - accuracy: 0.9731 - val_loss: 2.9596 - val_accuracy: 0.6354\n",
            "Epoch 62/200\n",
            "5/5 [==============================] - 1s 207ms/step - loss: 0.3180 - accuracy: 0.9661 - val_loss: 3.2376 - val_accuracy: 0.5729\n",
            "Epoch 63/200\n",
            "5/5 [==============================] - 1s 187ms/step - loss: 0.3328 - accuracy: 0.9540 - val_loss: 3.3161 - val_accuracy: 0.5972\n",
            "Epoch 64/200\n",
            "5/5 [==============================] - 1s 186ms/step - loss: 0.2917 - accuracy: 0.9792 - val_loss: 3.2755 - val_accuracy: 0.6076\n",
            "Epoch 65/200\n",
            "5/5 [==============================] - 1s 187ms/step - loss: 0.3011 - accuracy: 0.9696 - val_loss: 3.3647 - val_accuracy: 0.5938\n",
            "Epoch 66/200\n",
            "5/5 [==============================] - 1s 188ms/step - loss: 0.2950 - accuracy: 0.9679 - val_loss: 3.7043 - val_accuracy: 0.6146\n",
            "Epoch 67/200\n",
            "5/5 [==============================] - 1s 241ms/step - loss: 0.2812 - accuracy: 0.9731 - val_loss: 3.9932 - val_accuracy: 0.6181\n",
            "Epoch 68/200\n",
            "5/5 [==============================] - 1s 193ms/step - loss: 0.2926 - accuracy: 0.9714 - val_loss: 3.8275 - val_accuracy: 0.6007\n",
            "Epoch 69/200\n",
            "5/5 [==============================] - 1s 197ms/step - loss: 0.3424 - accuracy: 0.9670 - val_loss: 4.0676 - val_accuracy: 0.5972\n",
            "Epoch 70/200\n",
            "5/5 [==============================] - 1s 190ms/step - loss: 0.3904 - accuracy: 0.9505 - val_loss: 4.0452 - val_accuracy: 0.6076\n",
            "Epoch 71/200\n",
            "5/5 [==============================] - 1s 194ms/step - loss: 0.5174 - accuracy: 0.9193 - val_loss: 3.3161 - val_accuracy: 0.5347\n",
            "Epoch 72/200\n",
            "5/5 [==============================] - 1s 189ms/step - loss: 0.5154 - accuracy: 0.9158 - val_loss: 2.9145 - val_accuracy: 0.5521\n",
            "Epoch 73/200\n",
            "5/5 [==============================] - 1s 200ms/step - loss: 0.4465 - accuracy: 0.9306 - val_loss: 2.6834 - val_accuracy: 0.6146\n",
            "Epoch 74/200\n",
            "5/5 [==============================] - 1s 234ms/step - loss: 0.3738 - accuracy: 0.9523 - val_loss: 2.5839 - val_accuracy: 0.6042\n",
            "Epoch 75/200\n",
            "5/5 [==============================] - 1s 193ms/step - loss: 0.3366 - accuracy: 0.9696 - val_loss: 2.9171 - val_accuracy: 0.5799\n",
            "Epoch 76/200\n",
            "5/5 [==============================] - 1s 243ms/step - loss: 0.3267 - accuracy: 0.9644 - val_loss: 3.1416 - val_accuracy: 0.6111\n",
            "Epoch 77/200\n",
            "5/5 [==============================] - 1s 186ms/step - loss: 0.3139 - accuracy: 0.9731 - val_loss: 3.3483 - val_accuracy: 0.6285\n",
            "Epoch 78/200\n",
            "5/5 [==============================] - 1s 205ms/step - loss: 0.3082 - accuracy: 0.9740 - val_loss: 3.2819 - val_accuracy: 0.6354\n",
            "Epoch 79/200\n",
            "5/5 [==============================] - 1s 188ms/step - loss: 0.2789 - accuracy: 0.9844 - val_loss: 3.3271 - val_accuracy: 0.6562\n",
            "Epoch 80/200\n",
            "5/5 [==============================] - 1s 214ms/step - loss: 0.2776 - accuracy: 0.9826 - val_loss: 3.4728 - val_accuracy: 0.6215\n",
            "Epoch 81/200\n",
            "5/5 [==============================] - 1s 189ms/step - loss: 0.2717 - accuracy: 0.9861 - val_loss: 3.2740 - val_accuracy: 0.6458\n",
            "Epoch 82/200\n",
            "5/5 [==============================] - 1s 186ms/step - loss: 0.2460 - accuracy: 0.9887 - val_loss: 3.0201 - val_accuracy: 0.6389\n",
            "Epoch 83/200\n",
            "5/5 [==============================] - 1s 186ms/step - loss: 0.2562 - accuracy: 0.9861 - val_loss: 3.1549 - val_accuracy: 0.6528\n",
            "Epoch 84/200\n",
            "5/5 [==============================] - 1s 200ms/step - loss: 0.2463 - accuracy: 0.9861 - val_loss: 3.2307 - val_accuracy: 0.6354\n",
            "Epoch 85/200\n",
            "5/5 [==============================] - 1s 188ms/step - loss: 0.2554 - accuracy: 0.9800 - val_loss: 3.2432 - val_accuracy: 0.6215\n",
            "Epoch 86/200\n",
            "5/5 [==============================] - 1s 183ms/step - loss: 0.2541 - accuracy: 0.9818 - val_loss: 3.1697 - val_accuracy: 0.6111\n",
            "Epoch 87/200\n",
            "5/5 [==============================] - 1s 202ms/step - loss: 0.2476 - accuracy: 0.9818 - val_loss: 3.1625 - val_accuracy: 0.6146\n",
            "Epoch 88/200\n",
            "5/5 [==============================] - 1s 196ms/step - loss: 0.2579 - accuracy: 0.9792 - val_loss: 3.1158 - val_accuracy: 0.6181\n",
            "Epoch 89/200\n",
            "5/5 [==============================] - 1s 184ms/step - loss: 0.2323 - accuracy: 0.9878 - val_loss: 3.0651 - val_accuracy: 0.6181\n",
            "Epoch 90/200\n",
            "5/5 [==============================] - 1s 222ms/step - loss: 0.2305 - accuracy: 0.9878 - val_loss: 3.2044 - val_accuracy: 0.5938\n",
            "Epoch 91/200\n",
            "5/5 [==============================] - 1s 189ms/step - loss: 0.2338 - accuracy: 0.9852 - val_loss: 3.2675 - val_accuracy: 0.6111\n",
            "Epoch 92/200\n",
            "5/5 [==============================] - 1s 186ms/step - loss: 0.2227 - accuracy: 0.9852 - val_loss: 3.1916 - val_accuracy: 0.6181\n",
            "Epoch 93/200\n",
            "5/5 [==============================] - 1s 185ms/step - loss: 0.2330 - accuracy: 0.9809 - val_loss: 3.0641 - val_accuracy: 0.5903\n",
            "Epoch 94/200\n",
            "5/5 [==============================] - 1s 186ms/step - loss: 0.2208 - accuracy: 0.9870 - val_loss: 2.9225 - val_accuracy: 0.6042\n",
            "Epoch 95/200\n",
            "5/5 [==============================] - 1s 183ms/step - loss: 0.2152 - accuracy: 0.9835 - val_loss: 3.0139 - val_accuracy: 0.6042\n",
            "Epoch 96/200\n",
            "5/5 [==============================] - 1s 228ms/step - loss: 0.2283 - accuracy: 0.9783 - val_loss: 2.9014 - val_accuracy: 0.6354\n",
            "Epoch 97/200\n",
            "5/5 [==============================] - 1s 184ms/step - loss: 0.2003 - accuracy: 0.9905 - val_loss: 2.8937 - val_accuracy: 0.6215\n",
            "Epoch 98/200\n",
            "5/5 [==============================] - 1s 191ms/step - loss: 0.2147 - accuracy: 0.9826 - val_loss: 2.7115 - val_accuracy: 0.6285\n",
            "Epoch 99/200\n",
            "5/5 [==============================] - 1s 183ms/step - loss: 0.2049 - accuracy: 0.9887 - val_loss: 2.7723 - val_accuracy: 0.6285\n",
            "Epoch 100/200\n",
            "5/5 [==============================] - 1s 191ms/step - loss: 0.1972 - accuracy: 0.9878 - val_loss: 2.8422 - val_accuracy: 0.6285\n",
            "Epoch 101/200\n",
            "5/5 [==============================] - 1s 191ms/step - loss: 0.2007 - accuracy: 0.9835 - val_loss: 2.9708 - val_accuracy: 0.6250\n",
            "Epoch 102/200\n",
            "5/5 [==============================] - 1s 185ms/step - loss: 0.2074 - accuracy: 0.9809 - val_loss: 2.7200 - val_accuracy: 0.6354\n",
            "Epoch 103/200\n",
            "5/5 [==============================] - 1s 184ms/step - loss: 0.1999 - accuracy: 0.9826 - val_loss: 3.0845 - val_accuracy: 0.6354\n",
            "Epoch 104/200\n",
            "5/5 [==============================] - 1s 180ms/step - loss: 0.1998 - accuracy: 0.9844 - val_loss: 2.8997 - val_accuracy: 0.6319\n",
            "Epoch 105/200\n",
            "5/5 [==============================] - 1s 181ms/step - loss: 0.1815 - accuracy: 0.9905 - val_loss: 3.2016 - val_accuracy: 0.6493\n",
            "Epoch 106/200\n",
            "5/5 [==============================] - 1s 183ms/step - loss: 0.1866 - accuracy: 0.9896 - val_loss: 3.4124 - val_accuracy: 0.6042\n",
            "Epoch 107/200\n",
            "5/5 [==============================] - 1s 184ms/step - loss: 0.2082 - accuracy: 0.9826 - val_loss: 3.4705 - val_accuracy: 0.6146\n",
            "Epoch 108/200\n",
            "5/5 [==============================] - 1s 201ms/step - loss: 0.2170 - accuracy: 0.9800 - val_loss: 3.1716 - val_accuracy: 0.6181\n",
            "Epoch 109/200\n",
            "5/5 [==============================] - 1s 199ms/step - loss: 0.2209 - accuracy: 0.9766 - val_loss: 3.0782 - val_accuracy: 0.6389\n",
            "Epoch 110/200\n",
            "5/5 [==============================] - 1s 181ms/step - loss: 0.2514 - accuracy: 0.9748 - val_loss: 3.2462 - val_accuracy: 0.5938\n",
            "Epoch 111/200\n",
            "5/5 [==============================] - 1s 208ms/step - loss: 0.2625 - accuracy: 0.9618 - val_loss: 3.0802 - val_accuracy: 0.6076\n",
            "Epoch 112/200\n",
            "5/5 [==============================] - 1s 182ms/step - loss: 0.2707 - accuracy: 0.9661 - val_loss: 3.0152 - val_accuracy: 0.6007\n",
            "Epoch 113/200\n",
            "5/5 [==============================] - 1s 206ms/step - loss: 0.2420 - accuracy: 0.9722 - val_loss: 3.1862 - val_accuracy: 0.5799\n",
            "Epoch 114/200\n",
            "5/5 [==============================] - 1s 187ms/step - loss: 0.2648 - accuracy: 0.9696 - val_loss: 2.9770 - val_accuracy: 0.5938\n",
            "Epoch 115/200\n",
            "5/5 [==============================] - 1s 185ms/step - loss: 0.2330 - accuracy: 0.9818 - val_loss: 2.9075 - val_accuracy: 0.5764\n",
            "Epoch 116/200\n",
            "5/5 [==============================] - 1s 182ms/step - loss: 0.2505 - accuracy: 0.9696 - val_loss: 2.5423 - val_accuracy: 0.6215\n",
            "Epoch 117/200\n",
            "5/5 [==============================] - 1s 173ms/step - loss: 0.2641 - accuracy: 0.9774 - val_loss: 2.3210 - val_accuracy: 0.6181\n",
            "Epoch 118/200\n",
            "5/5 [==============================] - 1s 174ms/step - loss: 0.2390 - accuracy: 0.9792 - val_loss: 2.3277 - val_accuracy: 0.6076\n",
            "Epoch 119/200\n",
            "5/5 [==============================] - 1s 175ms/step - loss: 0.2416 - accuracy: 0.9818 - val_loss: 2.8407 - val_accuracy: 0.6215\n",
            "Epoch 120/200\n",
            "5/5 [==============================] - 1s 174ms/step - loss: 0.2238 - accuracy: 0.9818 - val_loss: 3.0396 - val_accuracy: 0.6319\n",
            "Epoch 121/200\n",
            "5/5 [==============================] - 1s 175ms/step - loss: 0.2141 - accuracy: 0.9896 - val_loss: 3.1945 - val_accuracy: 0.6319\n",
            "Epoch 122/200\n",
            "5/5 [==============================] - 1s 173ms/step - loss: 0.2106 - accuracy: 0.9861 - val_loss: 3.1340 - val_accuracy: 0.6285\n",
            "Epoch 123/200\n",
            "5/5 [==============================] - 1s 178ms/step - loss: 0.2058 - accuracy: 0.9861 - val_loss: 3.1555 - val_accuracy: 0.6007\n",
            "Epoch 124/200\n",
            "5/5 [==============================] - 1s 177ms/step - loss: 0.2134 - accuracy: 0.9844 - val_loss: 3.2205 - val_accuracy: 0.6042\n",
            "Epoch 125/200\n",
            "5/5 [==============================] - 1s 178ms/step - loss: 0.2053 - accuracy: 0.9878 - val_loss: 3.2336 - val_accuracy: 0.5972\n",
            "Epoch 126/200\n",
            "5/5 [==============================] - 1s 173ms/step - loss: 0.2020 - accuracy: 0.9844 - val_loss: 3.2953 - val_accuracy: 0.6146\n",
            "Epoch 127/200\n",
            "5/5 [==============================] - 1s 177ms/step - loss: 0.1957 - accuracy: 0.9878 - val_loss: 3.2180 - val_accuracy: 0.6215\n",
            "Epoch 128/200\n",
            "5/5 [==============================] - 1s 176ms/step - loss: 0.1909 - accuracy: 0.9887 - val_loss: 3.1945 - val_accuracy: 0.6007\n",
            "Epoch 129/200\n",
            "5/5 [==============================] - 1s 174ms/step - loss: 0.1864 - accuracy: 0.9887 - val_loss: 3.3068 - val_accuracy: 0.6181\n",
            "Epoch 130/200\n",
            "5/5 [==============================] - 1s 177ms/step - loss: 0.1817 - accuracy: 0.9896 - val_loss: 3.2705 - val_accuracy: 0.6250\n",
            "Epoch 131/200\n",
            "5/5 [==============================] - 1s 175ms/step - loss: 0.1738 - accuracy: 0.9896 - val_loss: 3.1333 - val_accuracy: 0.6181\n",
            "Epoch 132/200\n",
            "5/5 [==============================] - 1s 179ms/step - loss: 0.1720 - accuracy: 0.9905 - val_loss: 3.2500 - val_accuracy: 0.6111\n",
            "Epoch 133/200\n",
            "5/5 [==============================] - 1s 179ms/step - loss: 0.1721 - accuracy: 0.9896 - val_loss: 3.1363 - val_accuracy: 0.6354\n",
            "Epoch 134/200\n",
            "5/5 [==============================] - 1s 178ms/step - loss: 0.1811 - accuracy: 0.9870 - val_loss: 3.0283 - val_accuracy: 0.6493\n",
            "Epoch 135/200\n",
            "5/5 [==============================] - 1s 175ms/step - loss: 0.1734 - accuracy: 0.9870 - val_loss: 3.0649 - val_accuracy: 0.6076\n",
            "Epoch 136/200\n",
            "5/5 [==============================] - 1s 176ms/step - loss: 0.1838 - accuracy: 0.9844 - val_loss: 3.0094 - val_accuracy: 0.6528\n",
            "Epoch 137/200\n",
            "5/5 [==============================] - 1s 177ms/step - loss: 0.1970 - accuracy: 0.9783 - val_loss: 2.8696 - val_accuracy: 0.6424\n",
            "Epoch 138/200\n",
            "5/5 [==============================] - 1s 176ms/step - loss: 0.1838 - accuracy: 0.9826 - val_loss: 2.8853 - val_accuracy: 0.6354\n",
            "Epoch 139/200\n",
            "5/5 [==============================] - 1s 186ms/step - loss: 0.1724 - accuracy: 0.9861 - val_loss: 2.9876 - val_accuracy: 0.6354\n",
            "Epoch 140/200\n",
            "5/5 [==============================] - 1s 176ms/step - loss: 0.1731 - accuracy: 0.9844 - val_loss: 2.9069 - val_accuracy: 0.6319\n",
            "Epoch 141/200\n",
            "5/5 [==============================] - 1s 175ms/step - loss: 0.1790 - accuracy: 0.9887 - val_loss: 2.9962 - val_accuracy: 0.6354\n",
            "Epoch 142/200\n",
            "5/5 [==============================] - 1s 174ms/step - loss: 0.1693 - accuracy: 0.9887 - val_loss: 3.0406 - val_accuracy: 0.6007\n",
            "Epoch 143/200\n",
            "5/5 [==============================] - 1s 177ms/step - loss: 0.1613 - accuracy: 0.9870 - val_loss: 2.9669 - val_accuracy: 0.6181\n",
            "Epoch 144/200\n",
            "5/5 [==============================] - 1s 175ms/step - loss: 0.1624 - accuracy: 0.9878 - val_loss: 2.8846 - val_accuracy: 0.6250\n",
            "Epoch 145/200\n",
            "5/5 [==============================] - 1s 172ms/step - loss: 0.1813 - accuracy: 0.9766 - val_loss: 3.6008 - val_accuracy: 0.6250\n",
            "Epoch 146/200\n",
            "5/5 [==============================] - 1s 176ms/step - loss: 0.1825 - accuracy: 0.9835 - val_loss: 3.2301 - val_accuracy: 0.5729\n",
            "Epoch 147/200\n",
            "5/5 [==============================] - 1s 176ms/step - loss: 0.1755 - accuracy: 0.9861 - val_loss: 3.1965 - val_accuracy: 0.6007\n",
            "Epoch 148/200\n",
            "5/5 [==============================] - 1s 177ms/step - loss: 0.1888 - accuracy: 0.9792 - val_loss: 3.0100 - val_accuracy: 0.6250\n",
            "Epoch 149/200\n",
            "5/5 [==============================] - 1s 176ms/step - loss: 0.1756 - accuracy: 0.9878 - val_loss: 2.9104 - val_accuracy: 0.6007\n",
            "Epoch 150/200\n",
            "5/5 [==============================] - 1s 174ms/step - loss: 0.2186 - accuracy: 0.9792 - val_loss: 2.9080 - val_accuracy: 0.5833\n",
            "Epoch 151/200\n",
            "5/5 [==============================] - 1s 174ms/step - loss: 0.1652 - accuracy: 0.9896 - val_loss: 2.7173 - val_accuracy: 0.6285\n",
            "Epoch 152/200\n",
            "5/5 [==============================] - 1s 175ms/step - loss: 0.1645 - accuracy: 0.9896 - val_loss: 2.7332 - val_accuracy: 0.6042\n",
            "Epoch 153/200\n",
            "5/5 [==============================] - 1s 176ms/step - loss: 0.1537 - accuracy: 0.9878 - val_loss: 2.5527 - val_accuracy: 0.6319\n",
            "Epoch 154/200\n",
            "5/5 [==============================] - 1s 172ms/step - loss: 0.1500 - accuracy: 0.9913 - val_loss: 2.7768 - val_accuracy: 0.5938\n",
            "Epoch 155/200\n",
            "5/5 [==============================] - 1s 176ms/step - loss: 0.1623 - accuracy: 0.9852 - val_loss: 2.6851 - val_accuracy: 0.6181\n",
            "Epoch 156/200\n",
            "5/5 [==============================] - 1s 179ms/step - loss: 0.1638 - accuracy: 0.9861 - val_loss: 2.9090 - val_accuracy: 0.6458\n",
            "Epoch 157/200\n",
            "5/5 [==============================] - 1s 176ms/step - loss: 0.1610 - accuracy: 0.9852 - val_loss: 2.9944 - val_accuracy: 0.5903\n",
            "Epoch 158/200\n",
            "5/5 [==============================] - 1s 174ms/step - loss: 0.1510 - accuracy: 0.9870 - val_loss: 2.9788 - val_accuracy: 0.6215\n",
            "Epoch 159/200\n",
            "5/5 [==============================] - 1s 175ms/step - loss: 0.1639 - accuracy: 0.9844 - val_loss: 2.9283 - val_accuracy: 0.6146\n",
            "Epoch 160/200\n",
            "5/5 [==============================] - 1s 178ms/step - loss: 0.1672 - accuracy: 0.9800 - val_loss: 2.9438 - val_accuracy: 0.6215\n",
            "Epoch 161/200\n",
            "5/5 [==============================] - 1s 176ms/step - loss: 0.1635 - accuracy: 0.9861 - val_loss: 3.1797 - val_accuracy: 0.6215\n",
            "Epoch 162/200\n",
            "5/5 [==============================] - 1s 177ms/step - loss: 0.1625 - accuracy: 0.9835 - val_loss: 3.0483 - val_accuracy: 0.6285\n",
            "Epoch 163/200\n",
            "5/5 [==============================] - 1s 180ms/step - loss: 0.1475 - accuracy: 0.9905 - val_loss: 3.1602 - val_accuracy: 0.6250\n",
            "Epoch 164/200\n",
            "5/5 [==============================] - 1s 178ms/step - loss: 0.1584 - accuracy: 0.9870 - val_loss: 3.3417 - val_accuracy: 0.6181\n",
            "Epoch 165/200\n",
            "5/5 [==============================] - 1s 178ms/step - loss: 0.1431 - accuracy: 0.9939 - val_loss: 2.9570 - val_accuracy: 0.6215\n",
            "Epoch 166/200\n",
            "5/5 [==============================] - 1s 175ms/step - loss: 0.1600 - accuracy: 0.9844 - val_loss: 3.1109 - val_accuracy: 0.5799\n",
            "Epoch 167/200\n",
            "5/5 [==============================] - 1s 182ms/step - loss: 0.1874 - accuracy: 0.9766 - val_loss: 2.8149 - val_accuracy: 0.6389\n",
            "Epoch 168/200\n",
            "5/5 [==============================] - 1s 176ms/step - loss: 0.1982 - accuracy: 0.9766 - val_loss: 2.8009 - val_accuracy: 0.6285\n",
            "Epoch 169/200\n",
            "5/5 [==============================] - 1s 175ms/step - loss: 0.1807 - accuracy: 0.9774 - val_loss: 2.5972 - val_accuracy: 0.6111\n",
            "Epoch 170/200\n",
            "5/5 [==============================] - 1s 178ms/step - loss: 0.1879 - accuracy: 0.9809 - val_loss: 2.5538 - val_accuracy: 0.6285\n",
            "Epoch 171/200\n",
            "5/5 [==============================] - 1s 174ms/step - loss: 0.1865 - accuracy: 0.9844 - val_loss: 2.6010 - val_accuracy: 0.6181\n",
            "Epoch 172/200\n",
            "5/5 [==============================] - 1s 183ms/step - loss: 0.1879 - accuracy: 0.9792 - val_loss: 2.9495 - val_accuracy: 0.5972\n",
            "Epoch 173/200\n",
            "5/5 [==============================] - 1s 177ms/step - loss: 0.1962 - accuracy: 0.9844 - val_loss: 2.9647 - val_accuracy: 0.6285\n",
            "Epoch 174/200\n",
            "5/5 [==============================] - 1s 181ms/step - loss: 0.1944 - accuracy: 0.9861 - val_loss: 3.1932 - val_accuracy: 0.6250\n",
            "Epoch 175/200\n",
            "5/5 [==============================] - 1s 180ms/step - loss: 0.1903 - accuracy: 0.9783 - val_loss: 3.5355 - val_accuracy: 0.6042\n",
            "Epoch 176/200\n",
            "5/5 [==============================] - 1s 176ms/step - loss: 0.1801 - accuracy: 0.9878 - val_loss: 3.6849 - val_accuracy: 0.6181\n",
            "Epoch 177/200\n",
            "5/5 [==============================] - 1s 175ms/step - loss: 0.1791 - accuracy: 0.9878 - val_loss: 3.8301 - val_accuracy: 0.6354\n",
            "Epoch 178/200\n",
            "5/5 [==============================] - 1s 177ms/step - loss: 0.1793 - accuracy: 0.9870 - val_loss: 3.7838 - val_accuracy: 0.6493\n",
            "Epoch 179/200\n",
            "5/5 [==============================] - 1s 181ms/step - loss: 0.1714 - accuracy: 0.9887 - val_loss: 3.7966 - val_accuracy: 0.6458\n",
            "Epoch 180/200\n",
            "5/5 [==============================] - 1s 181ms/step - loss: 0.1666 - accuracy: 0.9913 - val_loss: 4.0582 - val_accuracy: 0.6042\n",
            "Epoch 181/200\n",
            "5/5 [==============================] - 1s 179ms/step - loss: 0.1750 - accuracy: 0.9913 - val_loss: 4.4321 - val_accuracy: 0.6319\n",
            "Epoch 182/200\n",
            "5/5 [==============================] - 1s 175ms/step - loss: 0.2424 - accuracy: 0.9887 - val_loss: 4.0647 - val_accuracy: 0.6042\n",
            "Epoch 183/200\n",
            "5/5 [==============================] - 1s 177ms/step - loss: 0.2498 - accuracy: 0.9748 - val_loss: 2.9600 - val_accuracy: 0.6181\n",
            "Epoch 184/200\n",
            "5/5 [==============================] - 1s 179ms/step - loss: 0.2428 - accuracy: 0.9696 - val_loss: 3.0982 - val_accuracy: 0.6285\n",
            "Epoch 185/200\n",
            "5/5 [==============================] - 1s 177ms/step - loss: 0.2435 - accuracy: 0.9644 - val_loss: 3.3169 - val_accuracy: 0.6042\n",
            "Epoch 186/200\n",
            "5/5 [==============================] - 1s 178ms/step - loss: 0.2311 - accuracy: 0.9740 - val_loss: 3.3396 - val_accuracy: 0.6042\n",
            "Epoch 187/200\n",
            "5/5 [==============================] - 1s 179ms/step - loss: 0.2110 - accuracy: 0.9800 - val_loss: 3.1453 - val_accuracy: 0.6562\n",
            "Epoch 188/200\n",
            "5/5 [==============================] - 1s 177ms/step - loss: 0.1994 - accuracy: 0.9887 - val_loss: 3.3154 - val_accuracy: 0.5972\n",
            "Epoch 189/200\n",
            "5/5 [==============================] - 1s 175ms/step - loss: 0.2004 - accuracy: 0.9852 - val_loss: 3.1329 - val_accuracy: 0.6285\n",
            "Epoch 190/200\n",
            "5/5 [==============================] - 1s 176ms/step - loss: 0.1991 - accuracy: 0.9835 - val_loss: 3.3611 - val_accuracy: 0.6076\n",
            "Epoch 191/200\n",
            "5/5 [==============================] - 1s 176ms/step - loss: 0.1968 - accuracy: 0.9870 - val_loss: 3.3138 - val_accuracy: 0.6250\n",
            "Epoch 192/200\n",
            "5/5 [==============================] - 1s 175ms/step - loss: 0.1868 - accuracy: 0.9870 - val_loss: 3.5963 - val_accuracy: 0.6146\n",
            "Epoch 193/200\n",
            "5/5 [==============================] - 1s 179ms/step - loss: 0.1765 - accuracy: 0.9905 - val_loss: 3.7197 - val_accuracy: 0.6285\n",
            "Epoch 194/200\n",
            "5/5 [==============================] - 1s 175ms/step - loss: 0.1789 - accuracy: 0.9896 - val_loss: 3.6072 - val_accuracy: 0.6319\n",
            "Epoch 195/200\n",
            "5/5 [==============================] - 1s 177ms/step - loss: 0.1775 - accuracy: 0.9913 - val_loss: 3.4747 - val_accuracy: 0.6146\n",
            "Epoch 196/200\n",
            "5/5 [==============================] - 1s 177ms/step - loss: 0.1678 - accuracy: 0.9896 - val_loss: 3.4089 - val_accuracy: 0.6215\n",
            "Epoch 197/200\n",
            "5/5 [==============================] - 1s 180ms/step - loss: 0.1781 - accuracy: 0.9922 - val_loss: 3.3757 - val_accuracy: 0.6042\n",
            "Epoch 198/200\n",
            "5/5 [==============================] - 1s 175ms/step - loss: 0.1712 - accuracy: 0.9913 - val_loss: 3.3780 - val_accuracy: 0.6076\n",
            "Epoch 199/200\n",
            "5/5 [==============================] - 1s 172ms/step - loss: 0.1614 - accuracy: 0.9922 - val_loss: 3.2074 - val_accuracy: 0.6389\n",
            "Epoch 200/200\n",
            "5/5 [==============================] - 1s 175ms/step - loss: 0.1634 - accuracy: 0.9922 - val_loss: 3.2970 - val_accuracy: 0.6389\n"
          ]
        }
      ]
    },
    {
      "cell_type": "code",
      "metadata": {
        "id": "5RpLEhBLhMIp"
      },
      "source": [
        "# model.save('mlp_model_Team-4')"
      ],
      "execution_count": 31,
      "outputs": [
        {
          "output_type": "stream",
          "name": "stdout",
          "text": [
            "INFO:tensorflow:Assets written to: mlp_model_Team-4/assets\n"
          ]
        }
      ]
    },
    {
      "cell_type": "code",
      "execution_count": 24,
      "metadata": {},
      "outputs": [
        {
          "output_type": "stream",
          "name": "stdout",
          "text": [
            "9/9 [==============================] - 0s 11ms/step - loss: 3.2970 - accuracy: 0.6389\n",
            "Accuracy obtained on validation is  63.88888955116272 %\n"
          ]
        }
      ],
      "source": [
        "result = model.evaluate(x_test,y_test)\n",
        "print('Accuracy obtained on validation is ',result[1]*100,'%')"
      ]
    },
    {
      "cell_type": "code",
      "execution_count": null,
      "metadata": {},
      "outputs": [],
      "source": []
    }
  ]
}