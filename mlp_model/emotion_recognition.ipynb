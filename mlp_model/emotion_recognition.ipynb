{
  "nbformat": 4,
  "nbformat_minor": 2,
  "metadata": {
    "colab": {
      "name": "Speech_emotion_recognition.ipynb",
      "provenance": [],
      "authorship_tag": "ABX9TyNtWzcuO3rLiERtGk4RfayH",
      "include_colab_link": true
    },
    "kernelspec": {
      "name": "python3",
      "display_name": "Python 3.8.5 64-bit"
    },
    "language_info": {
      "name": "python",
      "version": "3.8.5"
    },
    "interpreter": {
      "hash": "916dbcbb3f70747c44a77c7bcd40155683ae19c65e1c03b4aa3499c5328201f1"
    }
  },
  "cells": [
    {
      "cell_type": "markdown",
      "source": [
        "<a href=\"https://colab.research.google.com/github/anmolag190153/BCS_summer_project_SER/blob/main/Speech_emotion_recognition.ipynb\" target=\"_parent\"><img src=\"https://colab.research.google.com/assets/colab-badge.svg\" alt=\"Open In Colab\"/></a>"
      ],
      "metadata": {
        "id": "view-in-github",
        "colab_type": "text"
      }
    },
    {
      "cell_type": "markdown",
      "source": [
        "# SPEECH EMOTION RECOGNITION PROJECT\n",
        "## BCS-IITK\n",
        "\n",
        "\n",
        "# Emotions Classification using MLP model"
      ],
      "metadata": {}
    },
    {
      "cell_type": "code",
      "execution_count": 4,
      "source": [
        "import numpy as np\n",
        "import pandas as pd\n",
        "import matplotlib.pyplot as plt\n",
        "import IPython.display as ipd\n",
        "import librosa\n",
        "import librosa.display\n",
        "import os\n",
        "import tensorflow as tf\n",
        "from tensorflow import keras\n",
        "from sklearn.model_selection import train_test_split\n",
        "from sklearn.preprocessing import StandardScaler\n",
        "from keras.callbacks import CSVLogger\n",
        "# from google.colab import drive\n",
        "# drive.mount('/content/drive')"
      ],
      "outputs": [],
      "metadata": {
        "id": "6DAkci38V0eM",
        "colab": {
          "base_uri": "https://localhost:8080/"
        },
        "outputId": "36b31712-2893-42a5-e948-8adfc05c6942"
      }
    },
    {
      "cell_type": "code",
      "execution_count": 5,
      "source": [
        "# path1='/content/drive/My Drive/Ravdess/Actor_01/03-01-08-02-02-02-01.wav'\n",
        "# ipd.Audio(path1)"
      ],
      "outputs": [],
      "metadata": {
        "colab": {
          "base_uri": "https://localhost:8080/",
          "height": 75
        },
        "id": "bbK3nauBZE_l",
        "outputId": "c6a3c2f3-cb4c-43b9-ed2f-76aa6a1b30f2"
      }
    },
    {
      "cell_type": "code",
      "execution_count": 6,
      "source": [
        "# actor_1,sr=librosa.load(path1)\n",
        "# print(actor_1.shape)\n",
        "# print(sr)\n",
        "sr=22100"
      ],
      "outputs": [],
      "metadata": {
        "colab": {
          "base_uri": "https://localhost:8080/"
        },
        "id": "Fe3gX0-TIg8V",
        "outputId": "a2bc9158-5e66-4693-bdfe-adc2479af5f4"
      }
    },
    {
      "cell_type": "code",
      "execution_count": 7,
      "source": [
        "# plt.figure(figsize=(15,5))\n",
        "# librosa.display.waveplot(actor_1,sr=sr)\n",
        "# plt.ylim((-0.1,0.1))\n",
        "# plt.show()"
      ],
      "outputs": [],
      "metadata": {
        "colab": {
          "base_uri": "https://localhost:8080/",
          "height": 338
        },
        "id": "tHE5LRR-aSoA",
        "outputId": "9e74876d-e09b-4cdc-a9c4-d92f666e4a6a"
      }
    },
    {
      "cell_type": "code",
      "execution_count": 8,
      "source": [
        "def build_fc_model(input_shape=(180,1), num_class=8):\n",
        "    \n",
        "    \n",
        "    model=tf.keras.models.Sequential([tf.keras.layers.Dropout(0.1),\n",
        "                                    tf.keras.layers.Dense(512,activation='relu',input_shape=input_shape,kernel_regularizer=tf.keras.regularizers.l2(1e-2)),\n",
        "                                    tf.keras.layers.Dropout(0.1),\n",
        "                                    tf.keras.layers.Dense(512,activation='relu',kernel_regularizer=tf.keras.regularizers.l2(1e-3)),\n",
        "                                    tf.keras.layers.Dropout(0.1),\n",
        "                                    tf.keras.layers.Dense(128,activation='relu'),\n",
        "                                    tf.keras.layers.Dense(64,activation='relu'),\n",
        "                                    tf.keras.layers.Dense(num_class,activation='softmax')\n",
        "                                    ])\n",
        "\n",
        "    return model"
      ],
      "outputs": [],
      "metadata": {
        "id": "p4zSHxQuaoqi"
      }
    },
    {
      "cell_type": "code",
      "execution_count": 9,
      "source": [
        "def extract_feature(file):\n",
        "    result=np.array([])\n",
        "    mfcc=np.mean(librosa.feature.mfcc(file,sr=sr,n_mfcc=40).T,axis=0)\n",
        "    result=np.hstack((result,mfcc))\n",
        "    chroma=np.mean(librosa.feature.chroma_stft(file,sr=sr).T,axis=0)\n",
        "    result=np.hstack((result,chroma))\n",
        "    mel=np.mean(librosa.feature.melspectrogram(file,sr=sr).T,axis=0)\n",
        "    result=np.hstack((result,mel))\n",
        "    spectral_rolloff = np.mean(librosa.feature.spectral_rolloff(file, sr=sr).T,axis=0)\n",
        "    result=np.hstack((result,spectral_rolloff))\n",
        "    return result"
      ],
      "outputs": [],
      "metadata": {
        "id": "T34HMV2Zgfbe"
      }
    },
    {
      "cell_type": "markdown",
      "source": [
        "# Loading Data\n",
        "We are using the RAVDESS dataset for this project."
      ],
      "metadata": {}
    },
    {
      "cell_type": "code",
      "execution_count": 14,
      "source": [
        "path='Audio_Datasets'\n",
        "k=0\n",
        "x_data=np.ndarray(shape=(24*60,120000))\n",
        "y_data=np.ndarray(shape=(24*60,1))\n",
        "for i,actor in enumerate(os.listdir(path)):\n",
        "    path1=os.path.join(path,actor)\n",
        "    for j,file in enumerate(os.listdir(path1)):\n",
        "        b=file[6:8]\n",
        "        y_data[k,0]=b\n",
        "        y_data[k,0]=y_data[k,0]-1\n",
        "        temp_path=os.path.join(path1,file)\n",
        "        # print(temp_path)\n",
        "        var,_=librosa.load(temp_path)\n",
        "        x_data[k,:var.shape[0]]=var[:]\n",
        "        x_data[k,var.shape[0]:]=0\n",
        "        k=k+1"
      ],
      "outputs": [],
      "metadata": {
        "colab": {
          "base_uri": "https://localhost:8080/"
        },
        "id": "MoU-wCEhaWYU",
        "outputId": "31bf7f2d-315c-4aab-fa45-680c8e0eb0ef"
      }
    },
    {
      "cell_type": "markdown",
      "source": [
        "# Extracting Features\n",
        "We have used mfccs, chroma frequency, mel spectogram and spectral centroid as audio features in this project."
      ],
      "metadata": {}
    },
    {
      "cell_type": "code",
      "execution_count": 8,
      "source": [
        "x=[]\n",
        "for i in range(24*60):\n",
        "    feature=extract_feature(x_data[i,:])\n",
        "    x.append(feature)"
      ],
      "outputs": [],
      "metadata": {
        "id": "ADeYDlROgmxP"
      }
    },
    {
      "cell_type": "markdown",
      "source": [
        "**Scaling** the data and splitting data for **training** and **validation**"
      ],
      "metadata": {}
    },
    {
      "cell_type": "code",
      "execution_count": 9,
      "source": [
        "x_train, x_test,y_train,y_test = train_test_split(np.array(x), y_data, test_size=0.2, random_state=9)\n",
        "scaler = StandardScaler()\n",
        "x_train = scaler.fit_transform(x_train)\n",
        "x_test = scaler.transform(x_test)"
      ],
      "outputs": [],
      "metadata": {
        "id": "2gdYm8XWgn33"
      }
    },
    {
      "cell_type": "markdown",
      "source": [
        "# Training the model\n",
        "The model classifies human voices in 8 different classes of emotions\n",
        "\n",
        "**label**   **emotion**\n",
        "\n",
        "0   =   neutral\n",
        "\n",
        "1   =   calm\n",
        "\n",
        "2   =   happy\n",
        "\n",
        "3   =   sad\n",
        "\n",
        "4   =   angry\n",
        "\n",
        "5   =   fearful\n",
        "\n",
        "6   =   disgust\n",
        "\n",
        "7   =   surprised"
      ],
      "metadata": {}
    },
    {
      "cell_type": "code",
      "execution_count": 34,
      "source": [
        "model=build_fc_model()\n",
        "model.compile(loss='sparse_categorical_crossentropy',optimizer='adam',metrics=['accuracy'])\n",
        "csv_logger = CSVLogger('model_history.log', separator=',', append=False)\n",
        "history=model.fit(x_train,y_train,epochs=500,batch_size=256,validation_data=(x_test,y_test),callbacks=[csv_logger])"
      ],
      "outputs": [
        {
          "output_type": "stream",
          "name": "stdout",
          "text": [
            "===========================] - 0s 12ms/step - loss: 0.3396 - accuracy: 0.9575 - val_loss: 1.1300 - val_accuracy: 0.7500\n",
            "Epoch 361/500\n",
            "5/5 [==============================] - 0s 12ms/step - loss: 0.3305 - accuracy: 0.9609 - val_loss: 1.1920 - val_accuracy: 0.7535\n",
            "Epoch 362/500\n",
            "5/5 [==============================] - 0s 11ms/step - loss: 0.3053 - accuracy: 0.9696 - val_loss: 1.2309 - val_accuracy: 0.7326\n",
            "Epoch 363/500\n",
            "5/5 [==============================] - 0s 11ms/step - loss: 0.3173 - accuracy: 0.9653 - val_loss: 1.2083 - val_accuracy: 0.7049\n",
            "Epoch 364/500\n",
            "5/5 [==============================] - 0s 12ms/step - loss: 0.3063 - accuracy: 0.9722 - val_loss: 1.0858 - val_accuracy: 0.7569\n",
            "Epoch 365/500\n",
            "5/5 [==============================] - 0s 12ms/step - loss: 0.3012 - accuracy: 0.9670 - val_loss: 1.1726 - val_accuracy: 0.7465\n",
            "Epoch 366/500\n",
            "5/5 [==============================] - 0s 14ms/step - loss: 0.2937 - accuracy: 0.9731 - val_loss: 1.1349 - val_accuracy: 0.7431\n",
            "Epoch 367/500\n",
            "5/5 [==============================] - 0s 12ms/step - loss: 0.2762 - accuracy: 0.9792 - val_loss: 1.1828 - val_accuracy: 0.7431\n",
            "Epoch 368/500\n",
            "5/5 [==============================] - 0s 12ms/step - loss: 0.2875 - accuracy: 0.9722 - val_loss: 1.2006 - val_accuracy: 0.7292\n",
            "Epoch 369/500\n",
            "5/5 [==============================] - 0s 12ms/step - loss: 0.2940 - accuracy: 0.9670 - val_loss: 1.2813 - val_accuracy: 0.7292\n",
            "Epoch 370/500\n",
            "5/5 [==============================] - 0s 12ms/step - loss: 0.3206 - accuracy: 0.9601 - val_loss: 1.3057 - val_accuracy: 0.7118\n",
            "Epoch 371/500\n",
            "5/5 [==============================] - 0s 14ms/step - loss: 0.3413 - accuracy: 0.9549 - val_loss: 1.3485 - val_accuracy: 0.6979\n",
            "Epoch 372/500\n",
            "5/5 [==============================] - 0s 12ms/step - loss: 0.2951 - accuracy: 0.9731 - val_loss: 1.2498 - val_accuracy: 0.7153\n",
            "Epoch 373/500\n",
            "5/5 [==============================] - 0s 13ms/step - loss: 0.3288 - accuracy: 0.9575 - val_loss: 1.2234 - val_accuracy: 0.7431\n",
            "Epoch 374/500\n",
            "5/5 [==============================] - 0s 13ms/step - loss: 0.3116 - accuracy: 0.9627 - val_loss: 1.2271 - val_accuracy: 0.7222\n",
            "Epoch 375/500\n",
            "5/5 [==============================] - 0s 13ms/step - loss: 0.3142 - accuracy: 0.9644 - val_loss: 1.2774 - val_accuracy: 0.7326\n",
            "Epoch 376/500\n",
            "5/5 [==============================] - 0s 11ms/step - loss: 0.3447 - accuracy: 0.9514 - val_loss: 1.3471 - val_accuracy: 0.7014\n",
            "Epoch 377/500\n",
            "5/5 [==============================] - 0s 13ms/step - loss: 0.3295 - accuracy: 0.9618 - val_loss: 1.1842 - val_accuracy: 0.7535\n",
            "Epoch 378/500\n",
            "5/5 [==============================] - 0s 12ms/step - loss: 0.3005 - accuracy: 0.9705 - val_loss: 1.3314 - val_accuracy: 0.7396\n",
            "Epoch 379/500\n",
            "5/5 [==============================] - 0s 13ms/step - loss: 0.3206 - accuracy: 0.9688 - val_loss: 1.4359 - val_accuracy: 0.7222\n",
            "Epoch 380/500\n",
            "5/5 [==============================] - 0s 13ms/step - loss: 0.3268 - accuracy: 0.9714 - val_loss: 1.2881 - val_accuracy: 0.7118\n",
            "Epoch 381/500\n",
            "5/5 [==============================] - 0s 12ms/step - loss: 0.3092 - accuracy: 0.9705 - val_loss: 1.1413 - val_accuracy: 0.7569\n",
            "Epoch 382/500\n",
            "5/5 [==============================] - 0s 11ms/step - loss: 0.2958 - accuracy: 0.9792 - val_loss: 1.2268 - val_accuracy: 0.7535\n",
            "Epoch 383/500\n",
            "5/5 [==============================] - 0s 12ms/step - loss: 0.3156 - accuracy: 0.9688 - val_loss: 1.2973 - val_accuracy: 0.7118\n",
            "Epoch 384/500\n",
            "5/5 [==============================] - 0s 13ms/step - loss: 0.2926 - accuracy: 0.9792 - val_loss: 1.3385 - val_accuracy: 0.7292\n",
            "Epoch 385/500\n",
            "5/5 [==============================] - 0s 11ms/step - loss: 0.3162 - accuracy: 0.9644 - val_loss: 1.4141 - val_accuracy: 0.6875\n",
            "Epoch 386/500\n",
            "5/5 [==============================] - 0s 12ms/step - loss: 0.3156 - accuracy: 0.9722 - val_loss: 1.2148 - val_accuracy: 0.7465\n",
            "Epoch 387/500\n",
            "5/5 [==============================] - 0s 14ms/step - loss: 0.3160 - accuracy: 0.9653 - val_loss: 1.1419 - val_accuracy: 0.7569\n",
            "Epoch 388/500\n",
            "5/5 [==============================] - 0s 12ms/step - loss: 0.3055 - accuracy: 0.9705 - val_loss: 1.2390 - val_accuracy: 0.7222\n",
            "Epoch 389/500\n",
            "5/5 [==============================] - 0s 13ms/step - loss: 0.3312 - accuracy: 0.9601 - val_loss: 1.3154 - val_accuracy: 0.7431\n",
            "Epoch 390/500\n",
            "5/5 [==============================] - 0s 12ms/step - loss: 0.3032 - accuracy: 0.9731 - val_loss: 1.2723 - val_accuracy: 0.7049\n",
            "Epoch 391/500\n",
            "5/5 [==============================] - 0s 12ms/step - loss: 0.3019 - accuracy: 0.9653 - val_loss: 1.1721 - val_accuracy: 0.7500\n",
            "Epoch 392/500\n",
            "5/5 [==============================] - 0s 12ms/step - loss: 0.3113 - accuracy: 0.9705 - val_loss: 1.1163 - val_accuracy: 0.7708\n",
            "Epoch 393/500\n",
            "5/5 [==============================] - 0s 12ms/step - loss: 0.3036 - accuracy: 0.9740 - val_loss: 1.2150 - val_accuracy: 0.7535\n",
            "Epoch 394/500\n",
            "5/5 [==============================] - 0s 12ms/step - loss: 0.2965 - accuracy: 0.9766 - val_loss: 1.1898 - val_accuracy: 0.7500\n",
            "Epoch 395/500\n",
            "5/5 [==============================] - 0s 12ms/step - loss: 0.3007 - accuracy: 0.9696 - val_loss: 1.2372 - val_accuracy: 0.7188\n",
            "Epoch 396/500\n",
            "5/5 [==============================] - 0s 11ms/step - loss: 0.2791 - accuracy: 0.9792 - val_loss: 1.1545 - val_accuracy: 0.7361\n",
            "Epoch 397/500\n",
            "5/5 [==============================] - 0s 14ms/step - loss: 0.3146 - accuracy: 0.9653 - val_loss: 1.2074 - val_accuracy: 0.7361\n",
            "Epoch 398/500\n",
            "5/5 [==============================] - 0s 14ms/step - loss: 0.2828 - accuracy: 0.9783 - val_loss: 1.2834 - val_accuracy: 0.7257\n",
            "Epoch 399/500\n",
            "5/5 [==============================] - 0s 14ms/step - loss: 0.2951 - accuracy: 0.9696 - val_loss: 1.2806 - val_accuracy: 0.7396\n",
            "Epoch 400/500\n",
            "5/5 [==============================] - 0s 11ms/step - loss: 0.3158 - accuracy: 0.9644 - val_loss: 1.2870 - val_accuracy: 0.7326\n",
            "Epoch 401/500\n",
            "5/5 [==============================] - 0s 11ms/step - loss: 0.3087 - accuracy: 0.9670 - val_loss: 1.1336 - val_accuracy: 0.7396\n",
            "Epoch 402/500\n",
            "5/5 [==============================] - 0s 13ms/step - loss: 0.2876 - accuracy: 0.9748 - val_loss: 1.2315 - val_accuracy: 0.7361\n",
            "Epoch 403/500\n",
            "5/5 [==============================] - 0s 14ms/step - loss: 0.2746 - accuracy: 0.9774 - val_loss: 1.3124 - val_accuracy: 0.7326\n",
            "Epoch 404/500\n",
            "5/5 [==============================] - 0s 13ms/step - loss: 0.2926 - accuracy: 0.9748 - val_loss: 1.1851 - val_accuracy: 0.7292\n",
            "Epoch 405/500\n",
            "5/5 [==============================] - 0s 12ms/step - loss: 0.2783 - accuracy: 0.9748 - val_loss: 1.1395 - val_accuracy: 0.7257\n",
            "Epoch 406/500\n",
            "5/5 [==============================] - 0s 12ms/step - loss: 0.2964 - accuracy: 0.9748 - val_loss: 1.2088 - val_accuracy: 0.7049\n",
            "Epoch 407/500\n",
            "5/5 [==============================] - 0s 12ms/step - loss: 0.2779 - accuracy: 0.9740 - val_loss: 1.3517 - val_accuracy: 0.7188\n",
            "Epoch 408/500\n",
            "5/5 [==============================] - 0s 12ms/step - loss: 0.2773 - accuracy: 0.9740 - val_loss: 1.2842 - val_accuracy: 0.7118\n",
            "Epoch 409/500\n",
            "5/5 [==============================] - 0s 13ms/step - loss: 0.2743 - accuracy: 0.9766 - val_loss: 1.1154 - val_accuracy: 0.7604\n",
            "Epoch 410/500\n",
            "5/5 [==============================] - 0s 14ms/step - loss: 0.2770 - accuracy: 0.9792 - val_loss: 1.1152 - val_accuracy: 0.7604\n",
            "Epoch 411/500\n",
            "5/5 [==============================] - 0s 12ms/step - loss: 0.2759 - accuracy: 0.9766 - val_loss: 1.1513 - val_accuracy: 0.7396\n",
            "Epoch 412/500\n",
            "5/5 [==============================] - 0s 12ms/step - loss: 0.3057 - accuracy: 0.9635 - val_loss: 1.1804 - val_accuracy: 0.7431\n",
            "Epoch 413/500\n",
            "5/5 [==============================] - 0s 12ms/step - loss: 0.2868 - accuracy: 0.9644 - val_loss: 1.2772 - val_accuracy: 0.7188\n",
            "Epoch 414/500\n",
            "5/5 [==============================] - 0s 14ms/step - loss: 0.2995 - accuracy: 0.9644 - val_loss: 1.3024 - val_accuracy: 0.7014\n",
            "Epoch 415/500\n",
            "5/5 [==============================] - 0s 14ms/step - loss: 0.2894 - accuracy: 0.9705 - val_loss: 1.2925 - val_accuracy: 0.7153\n",
            "Epoch 416/500\n",
            "5/5 [==============================] - 0s 12ms/step - loss: 0.2840 - accuracy: 0.9688 - val_loss: 1.2558 - val_accuracy: 0.7257\n",
            "Epoch 417/500\n",
            "5/5 [==============================] - 0s 12ms/step - loss: 0.3033 - accuracy: 0.9688 - val_loss: 1.1978 - val_accuracy: 0.7292\n",
            "Epoch 418/500\n",
            "5/5 [==============================] - 0s 14ms/step - loss: 0.2735 - accuracy: 0.9748 - val_loss: 1.1458 - val_accuracy: 0.7535\n",
            "Epoch 419/500\n",
            "5/5 [==============================] - 0s 11ms/step - loss: 0.2802 - accuracy: 0.9731 - val_loss: 1.2112 - val_accuracy: 0.7431\n",
            "Epoch 420/500\n",
            "5/5 [==============================] - 0s 11ms/step - loss: 0.2645 - accuracy: 0.9800 - val_loss: 1.2404 - val_accuracy: 0.7604\n",
            "Epoch 421/500\n",
            "5/5 [==============================] - 0s 12ms/step - loss: 0.2762 - accuracy: 0.9766 - val_loss: 1.2270 - val_accuracy: 0.7292\n",
            "Epoch 422/500\n",
            "5/5 [==============================] - 0s 13ms/step - loss: 0.2750 - accuracy: 0.9800 - val_loss: 1.3257 - val_accuracy: 0.7014\n",
            "Epoch 423/500\n",
            "5/5 [==============================] - 0s 12ms/step - loss: 0.2688 - accuracy: 0.9792 - val_loss: 1.3401 - val_accuracy: 0.7326\n",
            "Epoch 424/500\n",
            "5/5 [==============================] - 0s 12ms/step - loss: 0.2956 - accuracy: 0.9696 - val_loss: 1.3406 - val_accuracy: 0.7118\n",
            "Epoch 425/500\n",
            "5/5 [==============================] - 0s 12ms/step - loss: 0.2845 - accuracy: 0.9731 - val_loss: 1.3560 - val_accuracy: 0.7257\n",
            "Epoch 426/500\n",
            "5/5 [==============================] - 0s 13ms/step - loss: 0.3244 - accuracy: 0.9583 - val_loss: 1.3411 - val_accuracy: 0.7083\n",
            "Epoch 427/500\n",
            "5/5 [==============================] - 0s 11ms/step - loss: 0.2972 - accuracy: 0.9688 - val_loss: 1.3510 - val_accuracy: 0.7118\n",
            "Epoch 428/500\n",
            "5/5 [==============================] - 0s 12ms/step - loss: 0.2986 - accuracy: 0.9679 - val_loss: 1.3389 - val_accuracy: 0.7153\n",
            "Epoch 429/500\n",
            "5/5 [==============================] - 0s 13ms/step - loss: 0.2819 - accuracy: 0.9748 - val_loss: 1.2357 - val_accuracy: 0.7569\n",
            "Epoch 430/500\n",
            "5/5 [==============================] - 0s 14ms/step - loss: 0.2893 - accuracy: 0.9740 - val_loss: 1.2484 - val_accuracy: 0.7326\n",
            "Epoch 431/500\n",
            "5/5 [==============================] - 0s 15ms/step - loss: 0.2827 - accuracy: 0.9714 - val_loss: 1.2267 - val_accuracy: 0.7326\n",
            "Epoch 432/500\n",
            "5/5 [==============================] - 0s 12ms/step - loss: 0.2712 - accuracy: 0.9757 - val_loss: 1.1299 - val_accuracy: 0.7535\n",
            "Epoch 433/500\n",
            "5/5 [==============================] - 0s 13ms/step - loss: 0.2717 - accuracy: 0.9774 - val_loss: 1.1301 - val_accuracy: 0.7431\n",
            "Epoch 434/500\n",
            "5/5 [==============================] - 0s 12ms/step - loss: 0.2645 - accuracy: 0.9792 - val_loss: 1.1708 - val_accuracy: 0.7465\n",
            "Epoch 435/500\n",
            "5/5 [==============================] - 0s 13ms/step - loss: 0.2946 - accuracy: 0.9714 - val_loss: 1.2009 - val_accuracy: 0.7674\n",
            "Epoch 436/500\n",
            "5/5 [==============================] - 0s 12ms/step - loss: 0.2923 - accuracy: 0.9644 - val_loss: 1.1770 - val_accuracy: 0.7604\n",
            "Epoch 437/500\n",
            "5/5 [==============================] - 0s 11ms/step - loss: 0.2767 - accuracy: 0.9731 - val_loss: 1.2594 - val_accuracy: 0.7222\n",
            "Epoch 438/500\n",
            "5/5 [==============================] - 0s 14ms/step - loss: 0.2657 - accuracy: 0.9774 - val_loss: 1.1913 - val_accuracy: 0.7396\n",
            "Epoch 439/500\n",
            "5/5 [==============================] - 0s 14ms/step - loss: 0.2949 - accuracy: 0.9627 - val_loss: 1.1839 - val_accuracy: 0.7361\n",
            "Epoch 440/500\n",
            "5/5 [==============================] - 0s 12ms/step - loss: 0.2905 - accuracy: 0.9705 - val_loss: 1.2626 - val_accuracy: 0.7222\n",
            "Epoch 441/500\n",
            "5/5 [==============================] - 0s 12ms/step - loss: 0.2783 - accuracy: 0.9696 - val_loss: 1.2939 - val_accuracy: 0.7153\n",
            "Epoch 442/500\n",
            "5/5 [==============================] - 0s 12ms/step - loss: 0.2665 - accuracy: 0.9783 - val_loss: 1.2240 - val_accuracy: 0.7431\n",
            "Epoch 443/500\n",
            "5/5 [==============================] - 0s 13ms/step - loss: 0.2784 - accuracy: 0.9670 - val_loss: 1.2632 - val_accuracy: 0.7465\n",
            "Epoch 444/500\n",
            "5/5 [==============================] - 0s 12ms/step - loss: 0.2705 - accuracy: 0.9731 - val_loss: 1.1989 - val_accuracy: 0.7639\n",
            "Epoch 445/500\n",
            "5/5 [==============================] - 0s 12ms/step - loss: 0.2737 - accuracy: 0.9731 - val_loss: 1.1549 - val_accuracy: 0.7569\n",
            "Epoch 446/500\n",
            "5/5 [==============================] - 0s 13ms/step - loss: 0.2489 - accuracy: 0.9826 - val_loss: 1.1327 - val_accuracy: 0.7743\n",
            "Epoch 447/500\n",
            "5/5 [==============================] - 0s 12ms/step - loss: 0.2762 - accuracy: 0.9714 - val_loss: 1.1692 - val_accuracy: 0.7604\n",
            "Epoch 448/500\n",
            "5/5 [==============================] - 0s 14ms/step - loss: 0.2550 - accuracy: 0.9809 - val_loss: 1.1969 - val_accuracy: 0.7604\n",
            "Epoch 449/500\n",
            "5/5 [==============================] - 0s 14ms/step - loss: 0.2638 - accuracy: 0.9766 - val_loss: 1.1625 - val_accuracy: 0.7674\n",
            "Epoch 450/500\n",
            "5/5 [==============================] - 0s 14ms/step - loss: 0.2724 - accuracy: 0.9714 - val_loss: 1.1616 - val_accuracy: 0.7500\n",
            "Epoch 451/500\n",
            "5/5 [==============================] - 0s 12ms/step - loss: 0.2546 - accuracy: 0.9809 - val_loss: 1.1460 - val_accuracy: 0.7465\n",
            "Epoch 452/500\n",
            "5/5 [==============================] - 0s 14ms/step - loss: 0.2516 - accuracy: 0.9826 - val_loss: 1.2215 - val_accuracy: 0.7188\n",
            "Epoch 453/500\n",
            "5/5 [==============================] - 0s 13ms/step - loss: 0.2585 - accuracy: 0.9809 - val_loss: 1.1762 - val_accuracy: 0.7396\n",
            "Epoch 454/500\n",
            "5/5 [==============================] - 0s 13ms/step - loss: 0.2538 - accuracy: 0.9774 - val_loss: 1.3115 - val_accuracy: 0.7118\n",
            "Epoch 455/500\n",
            "5/5 [==============================] - 0s 14ms/step - loss: 0.2698 - accuracy: 0.9722 - val_loss: 1.3706 - val_accuracy: 0.7118\n",
            "Epoch 456/500\n",
            "5/5 [==============================] - 0s 12ms/step - loss: 0.2728 - accuracy: 0.9740 - val_loss: 1.3440 - val_accuracy: 0.7118\n",
            "Epoch 457/500\n",
            "5/5 [==============================] - 0s 12ms/step - loss: 0.2663 - accuracy: 0.9748 - val_loss: 1.3121 - val_accuracy: 0.7292\n",
            "Epoch 458/500\n",
            "5/5 [==============================] - 0s 14ms/step - loss: 0.2653 - accuracy: 0.9748 - val_loss: 1.3908 - val_accuracy: 0.6944\n",
            "Epoch 459/500\n",
            "5/5 [==============================] - 0s 13ms/step - loss: 0.3136 - accuracy: 0.9531 - val_loss: 1.2073 - val_accuracy: 0.7431\n",
            "Epoch 460/500\n",
            "5/5 [==============================] - 0s 14ms/step - loss: 0.3093 - accuracy: 0.9661 - val_loss: 1.2958 - val_accuracy: 0.7014\n",
            "Epoch 461/500\n",
            "5/5 [==============================] - 0s 12ms/step - loss: 0.2793 - accuracy: 0.9679 - val_loss: 1.3548 - val_accuracy: 0.7118\n",
            "Epoch 462/500\n",
            "5/5 [==============================] - 0s 15ms/step - loss: 0.2966 - accuracy: 0.9714 - val_loss: 1.1381 - val_accuracy: 0.7188\n",
            "Epoch 463/500\n",
            "5/5 [==============================] - 0s 13ms/step - loss: 0.2852 - accuracy: 0.9722 - val_loss: 1.2754 - val_accuracy: 0.7257\n",
            "Epoch 464/500\n",
            "5/5 [==============================] - 0s 13ms/step - loss: 0.2952 - accuracy: 0.9679 - val_loss: 1.2414 - val_accuracy: 0.7292\n",
            "Epoch 465/500\n",
            "5/5 [==============================] - 0s 12ms/step - loss: 0.2872 - accuracy: 0.9644 - val_loss: 1.3771 - val_accuracy: 0.7014\n",
            "Epoch 466/500\n",
            "5/5 [==============================] - 0s 13ms/step - loss: 0.2758 - accuracy: 0.9748 - val_loss: 1.3148 - val_accuracy: 0.7292\n",
            "Epoch 467/500\n",
            "5/5 [==============================] - 0s 12ms/step - loss: 0.2701 - accuracy: 0.9722 - val_loss: 1.3385 - val_accuracy: 0.7292\n",
            "Epoch 468/500\n",
            "5/5 [==============================] - 0s 12ms/step - loss: 0.2888 - accuracy: 0.9688 - val_loss: 1.3362 - val_accuracy: 0.7396\n",
            "Epoch 469/500\n",
            "5/5 [==============================] - 0s 13ms/step - loss: 0.2732 - accuracy: 0.9748 - val_loss: 1.3179 - val_accuracy: 0.7257\n",
            "Epoch 470/500\n",
            "5/5 [==============================] - 0s 11ms/step - loss: 0.2936 - accuracy: 0.9653 - val_loss: 1.2508 - val_accuracy: 0.7465\n",
            "Epoch 471/500\n",
            "5/5 [==============================] - 0s 13ms/step - loss: 0.2682 - accuracy: 0.9766 - val_loss: 1.4106 - val_accuracy: 0.6979\n",
            "Epoch 472/500\n",
            "5/5 [==============================] - 0s 12ms/step - loss: 0.2893 - accuracy: 0.9722 - val_loss: 1.1940 - val_accuracy: 0.7222\n",
            "Epoch 473/500\n",
            "5/5 [==============================] - 0s 12ms/step - loss: 0.2846 - accuracy: 0.9766 - val_loss: 1.3186 - val_accuracy: 0.7118\n",
            "Epoch 474/500\n",
            "5/5 [==============================] - 0s 13ms/step - loss: 0.3868 - accuracy: 0.9497 - val_loss: 1.2777 - val_accuracy: 0.7257\n",
            "Epoch 475/500\n",
            "5/5 [==============================] - 0s 14ms/step - loss: 0.3419 - accuracy: 0.9609 - val_loss: 1.3827 - val_accuracy: 0.7257\n",
            "Epoch 476/500\n",
            "5/5 [==============================] - 0s 12ms/step - loss: 0.3293 - accuracy: 0.9679 - val_loss: 1.6872 - val_accuracy: 0.6701\n",
            "Epoch 477/500\n",
            "5/5 [==============================] - 0s 12ms/step - loss: 0.3573 - accuracy: 0.9523 - val_loss: 1.2888 - val_accuracy: 0.7153\n",
            "Epoch 478/500\n",
            "5/5 [==============================] - 0s 13ms/step - loss: 0.3352 - accuracy: 0.9627 - val_loss: 1.2094 - val_accuracy: 0.7431\n",
            "Epoch 479/500\n",
            "5/5 [==============================] - 0s 12ms/step - loss: 0.2929 - accuracy: 0.9722 - val_loss: 1.2692 - val_accuracy: 0.7431\n",
            "Epoch 480/500\n",
            "5/5 [==============================] - 0s 12ms/step - loss: 0.3008 - accuracy: 0.9688 - val_loss: 1.3030 - val_accuracy: 0.7083\n",
            "Epoch 481/500\n",
            "5/5 [==============================] - 0s 12ms/step - loss: 0.3102 - accuracy: 0.9635 - val_loss: 1.2084 - val_accuracy: 0.7500\n",
            "Epoch 482/500\n",
            "5/5 [==============================] - 0s 12ms/step - loss: 0.3026 - accuracy: 0.9696 - val_loss: 1.3439 - val_accuracy: 0.7396\n",
            "Epoch 483/500\n",
            "5/5 [==============================] - 0s 13ms/step - loss: 0.3016 - accuracy: 0.9748 - val_loss: 1.2669 - val_accuracy: 0.7326\n",
            "Epoch 484/500\n",
            "5/5 [==============================] - 0s 13ms/step - loss: 0.2910 - accuracy: 0.9757 - val_loss: 1.3675 - val_accuracy: 0.7118\n",
            "Epoch 485/500\n",
            "5/5 [==============================] - 0s 12ms/step - loss: 0.3021 - accuracy: 0.9705 - val_loss: 1.2781 - val_accuracy: 0.7083\n",
            "Epoch 486/500\n",
            "5/5 [==============================] - 0s 14ms/step - loss: 0.3168 - accuracy: 0.9714 - val_loss: 1.2626 - val_accuracy: 0.7535\n",
            "Epoch 487/500\n",
            "5/5 [==============================] - 0s 11ms/step - loss: 0.3261 - accuracy: 0.9609 - val_loss: 1.1788 - val_accuracy: 0.7326\n",
            "Epoch 488/500\n",
            "5/5 [==============================] - 0s 12ms/step - loss: 0.3277 - accuracy: 0.9670 - val_loss: 1.2414 - val_accuracy: 0.7188\n",
            "Epoch 489/500\n",
            "5/5 [==============================] - 0s 13ms/step - loss: 0.2921 - accuracy: 0.9722 - val_loss: 1.2580 - val_accuracy: 0.7292\n",
            "Epoch 490/500\n",
            "5/5 [==============================] - 0s 12ms/step - loss: 0.2729 - accuracy: 0.9774 - val_loss: 1.2363 - val_accuracy: 0.7153\n",
            "Epoch 491/500\n",
            "5/5 [==============================] - 0s 13ms/step - loss: 0.2836 - accuracy: 0.9774 - val_loss: 1.1815 - val_accuracy: 0.7188\n",
            "Epoch 492/500\n",
            "5/5 [==============================] - 0s 13ms/step - loss: 0.2825 - accuracy: 0.9783 - val_loss: 1.2195 - val_accuracy: 0.7326\n",
            "Epoch 493/500\n",
            "5/5 [==============================] - 0s 11ms/step - loss: 0.2820 - accuracy: 0.9731 - val_loss: 1.2785 - val_accuracy: 0.7500\n",
            "Epoch 494/500\n",
            "5/5 [==============================] - 0s 11ms/step - loss: 0.3093 - accuracy: 0.9688 - val_loss: 1.2071 - val_accuracy: 0.7083\n",
            "Epoch 495/500\n",
            "5/5 [==============================] - 0s 13ms/step - loss: 0.2879 - accuracy: 0.9757 - val_loss: 1.1442 - val_accuracy: 0.7257\n",
            "Epoch 496/500\n",
            "5/5 [==============================] - 0s 12ms/step - loss: 0.2863 - accuracy: 0.9783 - val_loss: 1.2978 - val_accuracy: 0.7292\n",
            "Epoch 497/500\n",
            "5/5 [==============================] - 0s 14ms/step - loss: 0.3066 - accuracy: 0.9670 - val_loss: 1.2043 - val_accuracy: 0.7326\n",
            "Epoch 498/500\n",
            "5/5 [==============================] - 0s 15ms/step - loss: 0.2746 - accuracy: 0.9766 - val_loss: 1.2027 - val_accuracy: 0.7465\n",
            "Epoch 499/500\n",
            "5/5 [==============================] - 0s 13ms/step - loss: 0.2638 - accuracy: 0.9826 - val_loss: 1.3112 - val_accuracy: 0.7361\n",
            "Epoch 500/500\n",
            "5/5 [==============================] - 0s 11ms/step - loss: 0.2744 - accuracy: 0.9696 - val_loss: 1.3521 - val_accuracy: 0.7118\n"
          ]
        }
      ],
      "metadata": {
        "id": "yycOxDhyhJn1",
        "outputId": "1a98c219-8c90-42aa-adbd-9af230276316",
        "colab": {
          "base_uri": "https://localhost:8080/"
        },
        "tags": [
          "outputPrepend"
        ]
      }
    },
    {
      "cell_type": "code",
      "execution_count": 31,
      "source": [
        "model.save('mlp_model_Team-4')"
      ],
      "outputs": [
        {
          "output_type": "stream",
          "name": "stdout",
          "text": [
            "INFO:tensorflow:Assets written to: mlp_model_Team-4/assets\n"
          ]
        }
      ],
      "metadata": {
        "id": "5RpLEhBLhMIp"
      }
    },
    {
      "cell_type": "code",
      "execution_count": 36,
      "source": [
        "result = model.evaluate(x_test,y_test)\n",
        "print('Accuracy obtained on validation is ',result[1]*100,'%')"
      ],
      "outputs": [
        {
          "output_type": "stream",
          "name": "stdout",
          "text": [
            "9/9 [==============================] - 0s 2ms/step - loss: 1.3521 - accuracy: 0.7118\n",
            "Accuracy obtained on validation is  71.18055820465088 %\n"
          ]
        }
      ],
      "metadata": {}
    },
    {
      "cell_type": "code",
      "execution_count": null,
      "source": [],
      "outputs": [],
      "metadata": {}
    }
  ]
}