{
  "nbformat": 4,
  "nbformat_minor": 0,
  "metadata": {
    "colab": {
      "name": "SER_MLP_model_k-fold.ipynb",
      "provenance": [],
      "mount_file_id": "18LKKex1SQ6QbYn_hl0_3qRSmgao_QT3T",
      "authorship_tag": "ABX9TyNB0gcIBCdoMR0EhbZ1zu7X",
      "include_colab_link": true
    },
    "kernelspec": {
      "name": "python3",
      "display_name": "Python 3"
    },
    "language_info": {
      "name": "python"
    }
  },
  "cells": [
    {
      "cell_type": "markdown",
      "metadata": {
        "id": "view-in-github",
        "colab_type": "text"
      },
      "source": [
        "<a href=\"https://colab.research.google.com/github/anmolag190153/BCS_summer_project_SER/blob/main/SER_MLP_model_k_fold.ipynb\" target=\"_parent\"><img src=\"https://colab.research.google.com/assets/colab-badge.svg\" alt=\"Open In Colab\"/></a>"
      ]
    },
    {
      "cell_type": "code",
      "metadata": {
        "id": "44HCVisb2Ctt"
      },
      "source": [
        "import numpy as np\n",
        "import pandas as pd\n",
        "import matplotlib.pyplot as plt\n",
        "import IPython.display as ipd\n",
        "import librosa\n",
        "import librosa.display\n",
        "import os\n",
        "import tensorflow as tf\n",
        "from tensorflow import keras\n",
        "from tensorflow.keras import layers,regularizers,models\n",
        "from sklearn.model_selection import train_test_split\n",
        "from sklearn.preprocessing import StandardScaler\n",
        "from keras.callbacks import CSVLogger"
      ],
      "execution_count": null,
      "outputs": []
    },
    {
      "cell_type": "code",
      "metadata": {
        "colab": {
          "base_uri": "https://localhost:8080/"
        },
        "id": "VpqJWgcu2YFC",
        "outputId": "c4e53d87-4ceb-4026-dd9f-bb3bfd34fd6d"
      },
      "source": [
        "from google.colab import drive\n",
        "drive.mount('/content/drive')"
      ],
      "execution_count": null,
      "outputs": [
        {
          "output_type": "stream",
          "text": [
            "Drive already mounted at /content/drive; to attempt to forcibly remount, call drive.mount(\"/content/drive\", force_remount=True).\n"
          ],
          "name": "stdout"
        }
      ]
    },
    {
      "cell_type": "code",
      "metadata": {
        "id": "OjJgWONL2j7t"
      },
      "source": [
        "path = '/content/drive/My Drive/RAVDESS_dataset'\n",
        "k = 0\n",
        "x_data = np.ndarray(shape = (24 * 60, 120000))\n",
        "y_data = np.ndarray(shape = (24 * 60, 1))\n",
        "for i,actor in enumerate(os.listdir(path)):\n",
        "    path1 = os.path.join(path,actor)\n",
        "    for j, file in enumerate(os.listdir(path1)):\n",
        "        b=file[6:8]\n",
        "        y_data[k,0] = b\n",
        "        y_data[k,0] = y_data[k, 0] - 1\n",
        "        temp_path = os.path.join(path1, file)\n",
        "        # print(temp_path)\n",
        "        var, _ = librosa.load(temp_path)\n",
        "        x_data[k, :var.shape[0]] = var[:]\n",
        "        x_data[k,var.shape[0]:] = 0\n",
        "        k = k + 1"
      ],
      "execution_count": null,
      "outputs": []
    },
    {
      "cell_type": "code",
      "metadata": {
        "id": "0Pvt3fve3DCT"
      },
      "source": [
        "sr=22100"
      ],
      "execution_count": null,
      "outputs": []
    },
    {
      "cell_type": "code",
      "metadata": {
        "id": "Vf3fvCKx3MjY"
      },
      "source": [
        "def build_fc_model(input_shape=(180,1), num_class=8):\n",
        "    \n",
        "    \n",
        "    model=tf.keras.models.Sequential([tf.keras.layers.Dropout(0.1),\n",
        "                                    tf.keras.layers.Dense(512,activation='relu',input_shape=input_shape,kernel_regularizer=tf.keras.regularizers.l2(1e-2)),\n",
        "                                    tf.keras.layers.Dropout(0.1),\n",
        "                                    tf.keras.layers.Dense(512,activation='relu',kernel_regularizer=tf.keras.regularizers.l2(1e-3)),\n",
        "                                    tf.keras.layers.Dropout(0.1),\n",
        "                                    tf.keras.layers.Dense(128,activation='relu'),\n",
        "                                    tf.keras.layers.Dense(64,activation='relu'),\n",
        "                                    tf.keras.layers.Dense(num_class,activation='softmax')\n",
        "                                    ])\n",
        "\n",
        "    return model"
      ],
      "execution_count": null,
      "outputs": []
    },
    {
      "cell_type": "code",
      "metadata": {
        "id": "F8lzO-vN4jBZ"
      },
      "source": [
        "def extract_feature(file):\n",
        "    result=np.array([])\n",
        "    mfcc=np.mean(librosa.feature.mfcc(file,sr=sr,n_mfcc=40).T,axis=0)\n",
        "    result=np.hstack((result,mfcc))\n",
        "    chroma=np.mean(librosa.feature.chroma_stft(file,sr=sr).T,axis=0)\n",
        "    result=np.hstack((result,chroma))\n",
        "    mel=np.mean(librosa.feature.melspectrogram(file,sr=sr).T,axis=0)\n",
        "    result=np.hstack((result,mel))\n",
        "    spectral_rolloff = np.mean(librosa.feature.spectral_rolloff(file, sr=sr).T,axis=0)\n",
        "    result=np.hstack((result,spectral_rolloff))\n",
        "    return result"
      ],
      "execution_count": null,
      "outputs": []
    },
    {
      "cell_type": "code",
      "metadata": {
        "id": "9Afc5Q8p4nkq"
      },
      "source": [
        "x=[]\n",
        "for i in range(24*60):\n",
        "    feature = extract_feature(x_data[i,:])\n",
        "    x.append(feature)\n",
        "#x_train, x_test, y_train, y_test = train_test_split(np.array(x), y_data, test_size = 0.2, random_state = 9)"
      ],
      "execution_count": null,
      "outputs": []
    },
    {
      "cell_type": "code",
      "metadata": {
        "id": "QJrpIBMf4zfs"
      },
      "source": [
        "scaler = StandardScaler()\n",
        "x = scaler.fit_transform(x)"
      ],
      "execution_count": null,
      "outputs": []
    },
    {
      "cell_type": "code",
      "metadata": {
        "colab": {
          "base_uri": "https://localhost:8080/"
        },
        "id": "8qdBbCZFDo1h",
        "outputId": "860b3668-930e-476d-a05e-d008142e1da5"
      },
      "source": [
        "print(x.shape, y_data.shape)"
      ],
      "execution_count": null,
      "outputs": [
        {
          "output_type": "stream",
          "text": [
            "(1440, 181) (1440, 1)\n"
          ],
          "name": "stdout"
        }
      ]
    },
    {
      "cell_type": "code",
      "metadata": {
        "colab": {
          "base_uri": "https://localhost:8080/"
        },
        "id": "3sJx7EfZ7djD",
        "outputId": "04c0817c-27db-4c80-9424-35cb37c55464"
      },
      "source": [
        "accuracy_perfold = []\n",
        "loss_perfold = []\n",
        "from sklearn.model_selection import StratifiedKFold\n",
        "folds = StratifiedKFold(n_splits = 10)\n",
        "for train_index, test_index in folds.split(x, y_data):\n",
        "    X_train, X_test, y_train, y_test = x[train_index], x[test_index], \\\n",
        "                                       y_data[train_index], y_data[test_index]\n",
        "    model = build_fc_model()\n",
        "    model.compile(loss = 'sparse_categorical_crossentropy', optimizer = 'adam', metrics = ['accuracy'])\n",
        "    history = model.fit(X_train, y_train, epochs = 10, batch_size = 32, validation_data = (X_test, y_test))\n",
        "    score  = model.evaluate(X_test, y_test)\n",
        "    accuracy_perfold.append(score[1] * 100)\n",
        "    loss_perfold.append(score[0]) "
      ],
      "execution_count": null,
      "outputs": [
        {
          "output_type": "stream",
          "text": [
            "Epoch 1/10\n",
            "41/41 [==============================] - 1s 13ms/step - loss: 4.3655 - accuracy: 0.2778 - val_loss: 3.6667 - val_accuracy: 0.3542\n",
            "Epoch 2/10\n",
            "41/41 [==============================] - 0s 9ms/step - loss: 3.1062 - accuracy: 0.4437 - val_loss: 2.9274 - val_accuracy: 0.4236\n",
            "Epoch 3/10\n",
            "41/41 [==============================] - 0s 9ms/step - loss: 2.5570 - accuracy: 0.5201 - val_loss: 2.5333 - val_accuracy: 0.4514\n",
            "Epoch 4/10\n",
            "41/41 [==============================] - 0s 9ms/step - loss: 2.1628 - accuracy: 0.5594 - val_loss: 2.4464 - val_accuracy: 0.4097\n",
            "Epoch 5/10\n",
            "41/41 [==============================] - 0s 8ms/step - loss: 1.9159 - accuracy: 0.6080 - val_loss: 2.4907 - val_accuracy: 0.4236\n",
            "Epoch 6/10\n",
            "41/41 [==============================] - 0s 9ms/step - loss: 1.7944 - accuracy: 0.6157 - val_loss: 2.4434 - val_accuracy: 0.4097\n",
            "Epoch 7/10\n",
            "41/41 [==============================] - 0s 9ms/step - loss: 1.6778 - accuracy: 0.6296 - val_loss: 2.1927 - val_accuracy: 0.4375\n",
            "Epoch 8/10\n",
            "41/41 [==============================] - 0s 9ms/step - loss: 1.5511 - accuracy: 0.6628 - val_loss: 2.3699 - val_accuracy: 0.4097\n",
            "Epoch 9/10\n",
            "41/41 [==============================] - 0s 9ms/step - loss: 1.4705 - accuracy: 0.6813 - val_loss: 2.1629 - val_accuracy: 0.4167\n",
            "Epoch 10/10\n",
            "41/41 [==============================] - 0s 9ms/step - loss: 1.4336 - accuracy: 0.6983 - val_loss: 2.2563 - val_accuracy: 0.3889\n",
            "5/5 [==============================] - 0s 5ms/step - loss: 2.2563 - accuracy: 0.3889\n",
            "Epoch 1/10\n",
            "41/41 [==============================] - 1s 15ms/step - loss: 4.3183 - accuracy: 0.2886 - val_loss: 3.4985 - val_accuracy: 0.3333\n",
            "Epoch 2/10\n",
            "41/41 [==============================] - 0s 9ms/step - loss: 3.0315 - accuracy: 0.4282 - val_loss: 2.8916 - val_accuracy: 0.4236\n",
            "Epoch 3/10\n",
            "41/41 [==============================] - 0s 9ms/step - loss: 2.4172 - accuracy: 0.5208 - val_loss: 2.6487 - val_accuracy: 0.4028\n",
            "Epoch 4/10\n",
            "41/41 [==============================] - 0s 9ms/step - loss: 2.1185 - accuracy: 0.5448 - val_loss: 2.4424 - val_accuracy: 0.4167\n",
            "Epoch 5/10\n",
            "41/41 [==============================] - 0s 8ms/step - loss: 1.8727 - accuracy: 0.5910 - val_loss: 2.3617 - val_accuracy: 0.4444\n",
            "Epoch 6/10\n",
            "41/41 [==============================] - 0s 9ms/step - loss: 1.6742 - accuracy: 0.6435 - val_loss: 2.3264 - val_accuracy: 0.4375\n",
            "Epoch 7/10\n",
            "41/41 [==============================] - 0s 9ms/step - loss: 1.6490 - accuracy: 0.6312 - val_loss: 2.2345 - val_accuracy: 0.4583\n",
            "Epoch 8/10\n",
            "41/41 [==============================] - 0s 8ms/step - loss: 1.5261 - accuracy: 0.6559 - val_loss: 2.2139 - val_accuracy: 0.3889\n",
            "Epoch 9/10\n",
            "41/41 [==============================] - 0s 9ms/step - loss: 1.4598 - accuracy: 0.6752 - val_loss: 2.1069 - val_accuracy: 0.5069\n",
            "Epoch 10/10\n",
            "41/41 [==============================] - 0s 10ms/step - loss: 1.3517 - accuracy: 0.7068 - val_loss: 2.4189 - val_accuracy: 0.4167\n",
            "5/5 [==============================] - 0s 4ms/step - loss: 2.4189 - accuracy: 0.4167\n",
            "Epoch 1/10\n",
            "41/41 [==============================] - 1s 15ms/step - loss: 4.3019 - accuracy: 0.3094 - val_loss: 3.5352 - val_accuracy: 0.3611\n",
            "Epoch 2/10\n",
            "41/41 [==============================] - 0s 9ms/step - loss: 3.0734 - accuracy: 0.4336 - val_loss: 2.7532 - val_accuracy: 0.4375\n",
            "Epoch 3/10\n",
            "41/41 [==============================] - 0s 9ms/step - loss: 2.4649 - accuracy: 0.5239 - val_loss: 2.3538 - val_accuracy: 0.4375\n",
            "Epoch 4/10\n",
            "41/41 [==============================] - 0s 9ms/step - loss: 2.1226 - accuracy: 0.5656 - val_loss: 2.1701 - val_accuracy: 0.5000\n",
            "Epoch 5/10\n",
            "41/41 [==============================] - 0s 9ms/step - loss: 1.9598 - accuracy: 0.5826 - val_loss: 2.3628 - val_accuracy: 0.4167\n",
            "Epoch 6/10\n",
            "41/41 [==============================] - 0s 9ms/step - loss: 1.7541 - accuracy: 0.6150 - val_loss: 2.0158 - val_accuracy: 0.4653\n",
            "Epoch 7/10\n",
            "41/41 [==============================] - 0s 8ms/step - loss: 1.6483 - accuracy: 0.6412 - val_loss: 2.1388 - val_accuracy: 0.4514\n",
            "Epoch 8/10\n",
            "41/41 [==============================] - 0s 9ms/step - loss: 1.5875 - accuracy: 0.6574 - val_loss: 1.9093 - val_accuracy: 0.5000\n",
            "Epoch 9/10\n",
            "41/41 [==============================] - 0s 9ms/step - loss: 1.4861 - accuracy: 0.6968 - val_loss: 2.1698 - val_accuracy: 0.3889\n",
            "Epoch 10/10\n",
            "41/41 [==============================] - 0s 8ms/step - loss: 1.4396 - accuracy: 0.6844 - val_loss: 2.0114 - val_accuracy: 0.5000\n",
            "5/5 [==============================] - 0s 4ms/step - loss: 2.0114 - accuracy: 0.5000\n",
            "Epoch 1/10\n",
            "41/41 [==============================] - 1s 15ms/step - loss: 4.2694 - accuracy: 0.3187 - val_loss: 3.6251 - val_accuracy: 0.3889\n",
            "Epoch 2/10\n",
            "41/41 [==============================] - 0s 10ms/step - loss: 3.0794 - accuracy: 0.4475 - val_loss: 3.0745 - val_accuracy: 0.3333\n",
            "Epoch 3/10\n",
            "41/41 [==============================] - 0s 9ms/step - loss: 2.4887 - accuracy: 0.5100 - val_loss: 2.9754 - val_accuracy: 0.3194\n",
            "Epoch 4/10\n",
            "41/41 [==============================] - 0s 9ms/step - loss: 2.1155 - accuracy: 0.5594 - val_loss: 2.6702 - val_accuracy: 0.3889\n",
            "Epoch 5/10\n",
            "41/41 [==============================] - 0s 8ms/step - loss: 1.8402 - accuracy: 0.6134 - val_loss: 2.8821 - val_accuracy: 0.3750\n",
            "Epoch 6/10\n",
            "41/41 [==============================] - 0s 9ms/step - loss: 1.7334 - accuracy: 0.6235 - val_loss: 2.4232 - val_accuracy: 0.4514\n",
            "Epoch 7/10\n",
            "41/41 [==============================] - 0s 9ms/step - loss: 1.5715 - accuracy: 0.6705 - val_loss: 2.4725 - val_accuracy: 0.4236\n",
            "Epoch 8/10\n",
            "41/41 [==============================] - 0s 9ms/step - loss: 1.5093 - accuracy: 0.6890 - val_loss: 2.4142 - val_accuracy: 0.4306\n",
            "Epoch 9/10\n",
            "41/41 [==============================] - 0s 9ms/step - loss: 1.4720 - accuracy: 0.7076 - val_loss: 2.4052 - val_accuracy: 0.4444\n",
            "Epoch 10/10\n",
            "41/41 [==============================] - 0s 9ms/step - loss: 1.3856 - accuracy: 0.7145 - val_loss: 2.3909 - val_accuracy: 0.3958\n",
            "5/5 [==============================] - 0s 6ms/step - loss: 2.3909 - accuracy: 0.3958\n",
            "Epoch 1/10\n",
            "41/41 [==============================] - 1s 12ms/step - loss: 4.4715 - accuracy: 0.2701 - val_loss: 3.8169 - val_accuracy: 0.2986\n",
            "Epoch 2/10\n",
            "41/41 [==============================] - 0s 9ms/step - loss: 3.2435 - accuracy: 0.4221 - val_loss: 3.2573 - val_accuracy: 0.2917\n",
            "Epoch 3/10\n",
            "41/41 [==============================] - 0s 9ms/step - loss: 2.5561 - accuracy: 0.4954 - val_loss: 2.7112 - val_accuracy: 0.4167\n",
            "Epoch 4/10\n",
            "41/41 [==============================] - 0s 9ms/step - loss: 2.1858 - accuracy: 0.5478 - val_loss: 2.5090 - val_accuracy: 0.4028\n",
            "Epoch 5/10\n",
            "41/41 [==============================] - 0s 9ms/step - loss: 1.9438 - accuracy: 0.5841 - val_loss: 2.3119 - val_accuracy: 0.4514\n",
            "Epoch 6/10\n",
            "41/41 [==============================] - 0s 8ms/step - loss: 1.8029 - accuracy: 0.6073 - val_loss: 2.1302 - val_accuracy: 0.4375\n",
            "Epoch 7/10\n",
            "41/41 [==============================] - 0s 8ms/step - loss: 1.6180 - accuracy: 0.6667 - val_loss: 2.1475 - val_accuracy: 0.4514\n",
            "Epoch 8/10\n",
            "41/41 [==============================] - 0s 9ms/step - loss: 1.5869 - accuracy: 0.6512 - val_loss: 2.3085 - val_accuracy: 0.3750\n",
            "Epoch 9/10\n",
            "41/41 [==============================] - 0s 8ms/step - loss: 1.5409 - accuracy: 0.6914 - val_loss: 2.2509 - val_accuracy: 0.3889\n",
            "Epoch 10/10\n",
            "41/41 [==============================] - 0s 9ms/step - loss: 1.3724 - accuracy: 0.7122 - val_loss: 2.2498 - val_accuracy: 0.3958\n",
            "5/5 [==============================] - 0s 4ms/step - loss: 2.2498 - accuracy: 0.3958\n",
            "Epoch 1/10\n",
            "41/41 [==============================] - 1s 12ms/step - loss: 4.3044 - accuracy: 0.2670 - val_loss: 3.5377 - val_accuracy: 0.3403\n",
            "Epoch 2/10\n",
            "41/41 [==============================] - 0s 9ms/step - loss: 3.0079 - accuracy: 0.4244 - val_loss: 2.9685 - val_accuracy: 0.3194\n",
            "Epoch 3/10\n",
            "41/41 [==============================] - 0s 9ms/step - loss: 2.3683 - accuracy: 0.5062 - val_loss: 2.6258 - val_accuracy: 0.3750\n",
            "Epoch 4/10\n",
            "41/41 [==============================] - 0s 9ms/step - loss: 2.0466 - accuracy: 0.5640 - val_loss: 2.8977 - val_accuracy: 0.4444\n",
            "Epoch 5/10\n",
            "41/41 [==============================] - 0s 9ms/step - loss: 1.9031 - accuracy: 0.5779 - val_loss: 2.4805 - val_accuracy: 0.4097\n",
            "Epoch 6/10\n",
            "41/41 [==============================] - 0s 9ms/step - loss: 1.7499 - accuracy: 0.6181 - val_loss: 2.7861 - val_accuracy: 0.2986\n",
            "Epoch 7/10\n",
            "41/41 [==============================] - 0s 9ms/step - loss: 1.6071 - accuracy: 0.6397 - val_loss: 2.5606 - val_accuracy: 0.4097\n",
            "Epoch 8/10\n",
            "41/41 [==============================] - 0s 8ms/step - loss: 1.5417 - accuracy: 0.6466 - val_loss: 2.4474 - val_accuracy: 0.4097\n",
            "Epoch 9/10\n",
            "41/41 [==============================] - 0s 9ms/step - loss: 1.4540 - accuracy: 0.6698 - val_loss: 2.5212 - val_accuracy: 0.3750\n",
            "Epoch 10/10\n",
            "41/41 [==============================] - 0s 9ms/step - loss: 1.3762 - accuracy: 0.6852 - val_loss: 2.5964 - val_accuracy: 0.4722\n",
            "5/5 [==============================] - 0s 4ms/step - loss: 2.5964 - accuracy: 0.4722\n",
            "Epoch 1/10\n",
            "41/41 [==============================] - 1s 12ms/step - loss: 4.3685 - accuracy: 0.2762 - val_loss: 3.6570 - val_accuracy: 0.3333\n",
            "Epoch 2/10\n",
            "41/41 [==============================] - 0s 9ms/step - loss: 3.1171 - accuracy: 0.4228 - val_loss: 2.9450 - val_accuracy: 0.3611\n",
            "Epoch 3/10\n",
            "41/41 [==============================] - 0s 9ms/step - loss: 2.4636 - accuracy: 0.5231 - val_loss: 2.5952 - val_accuracy: 0.4028\n",
            "Epoch 4/10\n",
            "41/41 [==============================] - 0s 9ms/step - loss: 2.1442 - accuracy: 0.5586 - val_loss: 2.4675 - val_accuracy: 0.3611\n",
            "Epoch 5/10\n",
            "41/41 [==============================] - 0s 9ms/step - loss: 1.9188 - accuracy: 0.5856 - val_loss: 2.4204 - val_accuracy: 0.3750\n",
            "Epoch 6/10\n",
            "41/41 [==============================] - 0s 9ms/step - loss: 1.7167 - accuracy: 0.6304 - val_loss: 2.2375 - val_accuracy: 0.4653\n",
            "Epoch 7/10\n",
            "41/41 [==============================] - 0s 9ms/step - loss: 1.6159 - accuracy: 0.6389 - val_loss: 2.4013 - val_accuracy: 0.4028\n",
            "Epoch 8/10\n",
            "41/41 [==============================] - 0s 8ms/step - loss: 1.5438 - accuracy: 0.6752 - val_loss: 2.3313 - val_accuracy: 0.3958\n",
            "Epoch 9/10\n",
            "41/41 [==============================] - 0s 9ms/step - loss: 1.4566 - accuracy: 0.6906 - val_loss: 2.3332 - val_accuracy: 0.4375\n",
            "Epoch 10/10\n",
            "41/41 [==============================] - 0s 9ms/step - loss: 1.4056 - accuracy: 0.6991 - val_loss: 2.2569 - val_accuracy: 0.3819\n",
            "5/5 [==============================] - 0s 6ms/step - loss: 2.2569 - accuracy: 0.3819\n",
            "Epoch 1/10\n",
            "41/41 [==============================] - 1s 13ms/step - loss: 4.3460 - accuracy: 0.2940 - val_loss: 3.7276 - val_accuracy: 0.3611\n",
            "Epoch 2/10\n",
            "41/41 [==============================] - 0s 9ms/step - loss: 3.1228 - accuracy: 0.4306 - val_loss: 2.9954 - val_accuracy: 0.3681\n",
            "Epoch 3/10\n",
            "41/41 [==============================] - 0s 9ms/step - loss: 2.5006 - accuracy: 0.5046 - val_loss: 2.5442 - val_accuracy: 0.4583\n",
            "Epoch 4/10\n",
            "41/41 [==============================] - 0s 9ms/step - loss: 2.1456 - accuracy: 0.5463 - val_loss: 2.3330 - val_accuracy: 0.4167\n",
            "Epoch 5/10\n",
            "41/41 [==============================] - 0s 9ms/step - loss: 1.9284 - accuracy: 0.5995 - val_loss: 2.2637 - val_accuracy: 0.4444\n",
            "Epoch 6/10\n",
            "41/41 [==============================] - 0s 9ms/step - loss: 1.7907 - accuracy: 0.6073 - val_loss: 2.2047 - val_accuracy: 0.4444\n",
            "Epoch 7/10\n",
            "41/41 [==============================] - 0s 9ms/step - loss: 1.5975 - accuracy: 0.6721 - val_loss: 2.1461 - val_accuracy: 0.4931\n",
            "Epoch 8/10\n",
            "41/41 [==============================] - 0s 9ms/step - loss: 1.5777 - accuracy: 0.6667 - val_loss: 2.1570 - val_accuracy: 0.4514\n",
            "Epoch 9/10\n",
            "41/41 [==============================] - 0s 9ms/step - loss: 1.5043 - accuracy: 0.6752 - val_loss: 2.0315 - val_accuracy: 0.4653\n",
            "Epoch 10/10\n",
            "41/41 [==============================] - 0s 9ms/step - loss: 1.4288 - accuracy: 0.7052 - val_loss: 2.3618 - val_accuracy: 0.4375\n",
            "5/5 [==============================] - 0s 4ms/step - loss: 2.3618 - accuracy: 0.4375\n",
            "Epoch 1/10\n",
            "41/41 [==============================] - 1s 12ms/step - loss: 4.3524 - accuracy: 0.2785 - val_loss: 3.5938 - val_accuracy: 0.3542\n",
            "Epoch 2/10\n",
            "41/41 [==============================] - 0s 9ms/step - loss: 3.0734 - accuracy: 0.4437 - val_loss: 2.9893 - val_accuracy: 0.3750\n",
            "Epoch 3/10\n",
            "41/41 [==============================] - 0s 9ms/step - loss: 2.4585 - accuracy: 0.4900 - val_loss: 2.4886 - val_accuracy: 0.4375\n",
            "Epoch 4/10\n",
            "41/41 [==============================] - 0s 9ms/step - loss: 2.1138 - accuracy: 0.5548 - val_loss: 2.4166 - val_accuracy: 0.3958\n",
            "Epoch 5/10\n",
            "41/41 [==============================] - 0s 9ms/step - loss: 1.8804 - accuracy: 0.5910 - val_loss: 2.1783 - val_accuracy: 0.4653\n",
            "Epoch 6/10\n",
            "41/41 [==============================] - 0s 9ms/step - loss: 1.7368 - accuracy: 0.6265 - val_loss: 2.1010 - val_accuracy: 0.5208\n",
            "Epoch 7/10\n",
            "41/41 [==============================] - 0s 10ms/step - loss: 1.6167 - accuracy: 0.6458 - val_loss: 1.9934 - val_accuracy: 0.5000\n",
            "Epoch 8/10\n",
            "41/41 [==============================] - 0s 11ms/step - loss: 1.5324 - accuracy: 0.6505 - val_loss: 2.4057 - val_accuracy: 0.3889\n",
            "Epoch 9/10\n",
            "41/41 [==============================] - 1s 12ms/step - loss: 1.5366 - accuracy: 0.6381 - val_loss: 2.0666 - val_accuracy: 0.4931\n",
            "Epoch 10/10\n",
            "41/41 [==============================] - 0s 11ms/step - loss: 1.4322 - accuracy: 0.6597 - val_loss: 1.9182 - val_accuracy: 0.5556\n",
            "5/5 [==============================] - 0s 5ms/step - loss: 1.9182 - accuracy: 0.5556\n",
            "Epoch 1/10\n",
            "41/41 [==============================] - 1s 15ms/step - loss: 4.3667 - accuracy: 0.2824 - val_loss: 3.7032 - val_accuracy: 0.3472\n",
            "Epoch 2/10\n",
            "41/41 [==============================] - 0s 11ms/step - loss: 3.1539 - accuracy: 0.4174 - val_loss: 2.9169 - val_accuracy: 0.4097\n",
            "Epoch 3/10\n",
            "41/41 [==============================] - 0s 11ms/step - loss: 2.4807 - accuracy: 0.5170 - val_loss: 2.5958 - val_accuracy: 0.4097\n",
            "Epoch 4/10\n",
            "41/41 [==============================] - 0s 11ms/step - loss: 2.1372 - accuracy: 0.5579 - val_loss: 2.6183 - val_accuracy: 0.4028\n",
            "Epoch 5/10\n",
            "41/41 [==============================] - 0s 11ms/step - loss: 1.9382 - accuracy: 0.6049 - val_loss: 2.4031 - val_accuracy: 0.4653\n",
            "Epoch 6/10\n",
            "41/41 [==============================] - 0s 11ms/step - loss: 1.8313 - accuracy: 0.6026 - val_loss: 2.2953 - val_accuracy: 0.4306\n",
            "Epoch 7/10\n",
            "41/41 [==============================] - 0s 9ms/step - loss: 1.6447 - accuracy: 0.6366 - val_loss: 2.3801 - val_accuracy: 0.3819\n",
            "Epoch 8/10\n",
            "41/41 [==============================] - 0s 10ms/step - loss: 1.6179 - accuracy: 0.6343 - val_loss: 2.3660 - val_accuracy: 0.3750\n",
            "Epoch 9/10\n",
            "41/41 [==============================] - 0s 9ms/step - loss: 1.5105 - accuracy: 0.6759 - val_loss: 2.4580 - val_accuracy: 0.3819\n",
            "Epoch 10/10\n",
            "41/41 [==============================] - 0s 9ms/step - loss: 1.4128 - accuracy: 0.6968 - val_loss: 2.2235 - val_accuracy: 0.4375\n",
            "5/5 [==============================] - 0s 5ms/step - loss: 2.2235 - accuracy: 0.4375\n"
          ],
          "name": "stdout"
        }
      ]
    },
    {
      "cell_type": "code",
      "metadata": {
        "colab": {
          "base_uri": "https://localhost:8080/"
        },
        "id": "9Dofr5bC-Lcm",
        "outputId": "d18d2793-a234-4c87-8e70-cb85ce9ab04c"
      },
      "source": [
        "result = np.average(accuracy_perfold)\n",
        "print('Accuracy obtained on validation is ',result,'%')"
      ],
      "execution_count": null,
      "outputs": [
        {
          "output_type": "stream",
          "text": [
            "Accuracy obtained on validation is  43.81944477558136 %\n"
          ],
          "name": "stdout"
        }
      ]
    },
    {
      "cell_type": "code",
      "metadata": {
        "id": "MhjWwJgCFvAv"
      },
      "source": [
        ""
      ],
      "execution_count": null,
      "outputs": []
    }
  ]
}