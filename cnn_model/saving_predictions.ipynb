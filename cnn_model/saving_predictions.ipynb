{
 "cells": [
  {
   "cell_type": "code",
   "execution_count": 4,
   "source": [
    "from tensorflow.keras import models\n",
    "import numpy as np\n",
    "import os\n",
    "\n",
    "model = models.load_model('cnn_model_team-4')\n",
    "\n",
    "feature_path = 'features/test/'\n",
    "x = []\n",
    "for feature in os.listdir(feature_path):\n",
    "    feat = np.loadtxt(feature_path+feature,delimiter=',')\n",
    "    x.append(feat)\n",
    "x = np.array(x)\n",
    "h,w = x.shape\n",
    "x = x.reshape(h,w,1)\n",
    "\n",
    "result = model.predict(x)\n",
    "result = np.argmax(result,axis=1)\n",
    "result = result.astype('int')\n",
    "print(result.shape)\n",
    "np.savetxt('test_data_predictions.csv',result,delimiter=',')"
   ],
   "outputs": [
    {
     "output_type": "stream",
     "name": "stdout",
     "text": [
      "(288,)\n"
     ]
    }
   ],
   "metadata": {}
  }
 ],
 "metadata": {
  "orig_nbformat": 4,
  "language_info": {
   "name": "python",
   "version": "3.8.10",
   "mimetype": "text/x-python",
   "codemirror_mode": {
    "name": "ipython",
    "version": 3
   },
   "pygments_lexer": "ipython3",
   "nbconvert_exporter": "python",
   "file_extension": ".py"
  },
  "kernelspec": {
   "name": "python3",
   "display_name": "Python 3.8.10 64-bit"
  },
  "interpreter": {
   "hash": "31f2aee4e71d21fbe5cf8b01ff0e069b9275f58929596ceb00d14d90e3e16cd6"
  }
 },
 "nbformat": 4,
 "nbformat_minor": 2
}