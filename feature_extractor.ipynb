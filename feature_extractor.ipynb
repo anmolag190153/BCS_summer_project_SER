{
  "nbformat": 4,
  "nbformat_minor": 0,
  "metadata": {
    "colab": {
      "name": "Speech_emotion_recognition.ipynb",
      "provenance": [],
      "authorship_tag": "ABX9TyNtWzcuO3rLiERtGk4RfayH",
      "include_colab_link": true
    },
    "kernelspec": {
      "name": "python3",
      "display_name": "Python 3.8.5 64-bit"
    },
    "language_info": {
      "name": "python",
      "version": "3.8.5"
    },
    "interpreter": {
      "hash": "916dbcbb3f70747c44a77c7bcd40155683ae19c65e1c03b4aa3499c5328201f1"
    }
  },
  "cells": [
    {
      "cell_type": "markdown",
      "metadata": {
        "id": "view-in-github",
        "colab_type": "text"
      },
      "source": [
        "<a href=\"https://colab.research.google.com/github/anmolag190153/BCS_summer_project_SER/blob/main/Speech_emotion_recognition.ipynb\" target=\"_parent\"><img src=\"https://colab.research.google.com/assets/colab-badge.svg\" alt=\"Open In Colab\"/></a>"
      ]
    },
    {
      "source": [
        "# SPEECH EMOTION RECOGNITION PROJECT\n",
        "## BCS-IITK\n",
        "\n",
        "\n",
        "# Emotions feature extraction"
      ],
      "cell_type": "markdown",
      "metadata": {}
    },
    {
      "cell_type": "code",
      "metadata": {
        "id": "6DAkci38V0eM",
        "colab": {
          "base_uri": "https://localhost:8080/"
        },
        "outputId": "36b31712-2893-42a5-e948-8adfc05c6942"
      },
      "source": [
        "import numpy as np\n",
        "import pandas as pd\n",
        "import matplotlib.pyplot as plt\n",
        "import IPython.display as ipd\n",
        "import librosa\n",
        "import librosa.display\n",
        "import os\n",
        "from sklearn.model_selection import train_test_split\n",
        "from sklearn.preprocessing import StandardScaler\n",
        "# from google.colab import drive\n",
        "# drive.mount('/content/drive')"
      ],
      "execution_count": 1,
      "outputs": []
    },
    {
      "cell_type": "code",
      "metadata": {
        "colab": {
          "base_uri": "https://localhost:8080/",
          "height": 75
        },
        "id": "bbK3nauBZE_l",
        "outputId": "c6a3c2f3-cb4c-43b9-ed2f-76aa6a1b30f2"
      },
      "source": [
        "# path1='/content/drive/My Drive/Ravdess/Actor_01/03-01-08-02-02-02-01.wav'\n",
        "# ipd.Audio(path1)"
      ],
      "execution_count": 2,
      "outputs": []
    },
    {
      "cell_type": "code",
      "metadata": {
        "colab": {
          "base_uri": "https://localhost:8080/"
        },
        "id": "Fe3gX0-TIg8V",
        "outputId": "a2bc9158-5e66-4693-bdfe-adc2479af5f4"
      },
      "source": [
        "# actor_1,sr=librosa.load(path1)\n",
        "# print(actor_1.shape)\n",
        "# print(sr)\n",
        "sr=22100"
      ],
      "execution_count": 3,
      "outputs": []
    },
    {
      "cell_type": "code",
      "metadata": {
        "colab": {
          "base_uri": "https://localhost:8080/",
          "height": 338
        },
        "id": "tHE5LRR-aSoA",
        "outputId": "9e74876d-e09b-4cdc-a9c4-d92f666e4a6a"
      },
      "source": [
        "# plt.figure(figsize=(15,5))\n",
        "# librosa.display.waveplot(actor_1,sr=sr)\n",
        "# plt.ylim((-0.1,0.1))\n",
        "# plt.show()"
      ],
      "execution_count": 4,
      "outputs": []
    },
    {
      "cell_type": "code",
      "metadata": {
        "id": "T34HMV2Zgfbe"
      },
      "source": [
        "def extract_feature(file):\n",
        "    result = np.array([])\n",
        "    mfcc = np.mean(librosa.feature.mfcc(file,sr=sr,n_mfcc=20).T,axis=0)\n",
        "    result = np.hstack((result,mfcc))\n",
        "    # chroma=np.mean(librosa.feature.chroma_stft(file,sr=sr).T,axis=0)\n",
        "    # result=np.hstack((result,chroma))\n",
        "    # mel = np.mean(librosa.feature.melspectrogram(file,sr=sr).T,axis=0)\n",
        "    # result = np.hstack((result,mel))\n",
        "    # spectral_rolloff = np.mean(librosa.feature.spectral_rolloff(file, sr=sr).T,axis=0)\n",
        "    # result = np.hstack((result,spectral_rolloff))\n",
        "    spec_centroid = np.mean(librosa.feature.spectral_centroid(file,sr).T,axis=0)\n",
        "    result = np.hstack((result,spec_centroid))\n",
        "    spec_bandwidth = np.mean(librosa.feature.spectral_bandwidth(file,sr).T,axis=0)\n",
        "    result = np.hstack((result,spec_bandwidth))\n",
        "    spec_contrast = np.mean(librosa.feature.spectral_contrast(file,sr).T,axis=0)\n",
        "    result=np.hstack((result,spec_contrast))\n",
        "    spec_flat = np.mean(librosa.feature.spectral_flatness(file).T,axis=0)\n",
        "    result=np.hstack((result,spec_flat))\n",
        "    return result"
      ],
      "execution_count": 5,
      "outputs": []
    },
    {
      "source": [
        "# Loading Data\n",
        "We are using the RAVDESS dataset for this project."
      ],
      "cell_type": "markdown",
      "metadata": {}
    },
    {
      "cell_type": "code",
      "metadata": {
        "colab": {
          "base_uri": "https://localhost:8080/"
        },
        "id": "MoU-wCEhaWYU",
        "outputId": "31bf7f2d-315c-4aab-fa45-680c8e0eb0ef"
      },
      "source": [
        "path='../BCS_summer_project_SER/Audio Datasets'\n",
        "k=0\n",
        "x_data=np.ndarray(shape=(24*60,120000))\n",
        "y_data=np.ndarray(shape=(24*60,1))\n",
        "for i,actor in enumerate(os.listdir(path)):\n",
        "    path1=os.path.join(path,actor)\n",
        "    for j,voice in enumerate(os.listdir(path1)):\n",
        "        if voice=='test':\n",
        "            continue\n",
        "        b=voice[6:8]\n",
        "        y_data[k,0]=b\n",
        "        y_data[k,0]=y_data[k,0]-1\n",
        "        temp_path=os.path.join(path1,voice)\n",
        "        # print(temp_path)\n",
        "        var,_=librosa.load(temp_path)\n",
        "        x_data[k,:var.shape[0]]=var[:]\n",
        "        x_data[k,var.shape[0]:]=0\n",
        "        k=k+1"
      ],
      "execution_count": 6,
      "outputs": []
    },
    {
      "source": [],
      "cell_type": "markdown",
      "metadata": {}
    },
    {
      "source": [
        "# Extracting Features\n",
        "We have used mfccs, chroma frequency, mel spectogram and spectral centroid as audio features in this project."
      ],
      "cell_type": "markdown",
      "metadata": {}
    },
    {
      "cell_type": "code",
      "metadata": {
        "id": "ADeYDlROgmxP"
      },
      "source": [
        "x=[]\n",
        "for i in range(24*60):\n",
        "    feature=extract_feature(x_data[i,:])\n",
        "    x.append(feature)"
      ],
      "execution_count": 7,
      "outputs": []
    },
    {
      "source": [
        "**Scaling** the data and splitting data for **training** and **validation**"
      ],
      "cell_type": "markdown",
      "metadata": {}
    },
    {
      "cell_type": "code",
      "metadata": {
        "id": "2gdYm8XWgn33"
      },
      "source": [
        "x_train, x_test,y_train,y_test = train_test_split(np.array(x), y_data, test_size=0.2, random_state=9)\n",
        "scaler = StandardScaler()\n",
        "x_train = scaler.fit_transform(x_train)\n",
        "x_test = scaler.transform(x_test)"
      ],
      "execution_count": 8,
      "outputs": []
    },
    {
      "source": [
        "# Saving features "
      ],
      "cell_type": "markdown",
      "metadata": {}
    },
    {
      "cell_type": "code",
      "execution_count": 9,
      "metadata": {},
      "outputs": [],
      "source": [
        "for i,feat in enumerate(x_train):\n",
        "    np.savetxt('features/train/'+str(i)+'_'+str(y_train[i])+'.csv',feat,delimiter=',')\n",
        "for i,feat in enumerate(x_test):\n",
        "    np.savetxt('features/test/'+str(i)+'_'+str(y_test[i])+'.csv',feat,delimiter=',')"
      ]
    },
    {
      "cell_type": "code",
      "execution_count": 10,
      "metadata": {},
      "outputs": [
        {
          "output_type": "stream",
          "name": "stdout",
          "text": [
            "((1152, 30), (288, 30), (1152, 1))\n"
          ]
        }
      ],
      "source": [
        "print((x_train.shape,x_test.shape,y_train.shape))"
      ]
    },
    {
      "cell_type": "code",
      "execution_count": null,
      "metadata": {},
      "outputs": [],
      "source": []
    }
  ]
}